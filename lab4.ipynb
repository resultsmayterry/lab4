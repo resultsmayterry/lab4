{
 "cells": [
  {
   "cell_type": "markdown",
   "metadata": {},
   "source": [
    "## Lab 4: Introduction to Reinforcement Leaerning\n",
    "\n",
    "In this lab we will get a small taste of the power Reinforcement Learning (RL) has to offer when it comes to robotics and control. Your task will be to use the [gym](https://gym.openai.com/docs/) library to simulate a small MDP environment, and use tabular Q-learning to solve it. \n",
    "\n",
    "Given the interdisciplinary nature of RL, the breadth of the topic can easily fill multiple courses. Here, you will be introduced to the math you need to succesfully implement Q-learning, but the reasoning behind all the steps is not explained. I recommend starting at this [lecture](https://www.youtube.com/watch?v=E3f2Camj0Is&list=PLoROMvodv4rOSOPzutgyCTapiGlY2Nd8u&index=2) for those interested. Note that \n",
    "it takes three lectures (2-4) to arrive at the Q-learning formulation.\n",
    "\n",
    "\n"
   ]
  },
  {
   "cell_type": "markdown",
   "metadata": {},
   "source": [
    "## Lab Overview\n",
    "### I. gym\n",
    "### II. Markov Decision Processes\n",
    "### III. Q-learning\n",
    "\n",
    "### You are responsible for completing the tasks explained in:\n",
    "- **Cells 7-8**: Your tabular Q-learning implementation.\n",
    "- **Cells 11-12**: A plot of your training statistics.\n"
   ]
  },
  {
   "cell_type": "markdown",
   "metadata": {},
   "source": [
    "### I. gym\n",
    "\n",
    "The [gym](https://gym.openai.com/docs/) library is a benchmark suite for RL provided by OpenAI. It is widely used in research due to its easy integration with python.\n",
    "\n",
    "You can install it below as we did for scipy in the last lab, or use the new yml file provided. "
   ]
  },
  {
   "cell_type": "code",
   "execution_count": 14,
   "metadata": {},
   "outputs": [],
   "source": [
    "import gym\n",
    "import numpy as np \n",
    "from numpy.random import default_rng"
   ]
  },
  {
   "cell_type": "markdown",
   "metadata": {},
   "source": [
    "There are a ton of environments to choose from with gym, they can all be accessed using their associated name. "
   ]
  },
  {
   "cell_type": "code",
   "execution_count": 3,
   "metadata": {},
   "outputs": [],
   "source": [
    "env = gym.make(\"Taxi-v3\").env"
   ]
  },
  {
   "cell_type": "markdown",
   "metadata": {},
   "source": [
    "Once you've made the environemnt, you can directly interact with the env object created.\n",
    "\n",
    "Here we will look at the taxi environment, where the goal of the agent/robot/taxi is to pick up a passenger from one of  four possible locations, and drop them off at another. Since the environment is small and does not relocate the obstacles it is easy to solve methodically, but we will see how a general algorithm can be used to find the ideal policy.  \n",
    "\n",
    "We can take a look at what's going on up close:"
   ]
  },
  {
   "cell_type": "code",
   "execution_count": 4,
   "metadata": {},
   "outputs": [
    {
     "name": "stdout",
     "output_type": "stream",
     "text": [
      "+---------+\n",
      "|R: | : :\u001b[35mG\u001b[0m|\n",
      "| : | : : |\n",
      "| : : :\u001b[43m \u001b[0m: |\n",
      "| | : | : |\n",
      "|\u001b[34;1mY\u001b[0m| : |B: |\n",
      "+---------+\n",
      "\n"
     ]
    }
   ],
   "source": [
    "env.render() "
   ]
  },
  {
   "cell_type": "markdown",
   "metadata": {},
   "source": [
    "[Taxi-v3](https://gym.openai.com/envs/Taxi-v3/)\n",
    "\n",
    "A thorough explanation directly from the [source](https://github.com/openai/gym/blob/master/gym/envs/toy_text/taxi.py):\n",
    "\n",
    "#\n",
    "    The Taxi Problem\n",
    "    from \"Hierarchical Reinforcement Learning with the MAXQ Value Function Decomposition\"\n",
    "    by Tom Dietterich\n",
    "\n",
    "    Description:\n",
    "    There are four designated locations in the grid world indicated \n",
    "    by R(ed), G(reen), Y(ellow), and B(lue). \n",
    "    When the episode starts, the taxi starts off at a random square \n",
    "    and the passenger is at a random location. \n",
    "    The taxi drives to the passenger's location, \n",
    "    picks up the passenger, drives to the passenger's destination \n",
    "    (another one of the four specified locations), and then drops off the passenger. \n",
    "    Once the passenger is dropped off, the episode ends.\n",
    "    Observations:\n",
    "    There are 500 discrete states since there are 25 taxi positions, \n",
    "    5 possible locations of the passenger, and 4 destination locations. \n",
    "\n",
    "    Passenger locations:\n",
    "    - 0: R(ed)\n",
    "    - 1: G(reen)\n",
    "    - 2: Y(ellow)\n",
    "    - 3: B(lue)\n",
    "    - 4: in taxi\n",
    "\n",
    "    Destinations:\n",
    "    - 0: R(ed)\n",
    "    - 1: G(reen)\n",
    "    - 2: Y(ellow)\n",
    "    - 3: B(lue)\n",
    "\n",
    "    Actions:\n",
    "    There are 6 discrete deterministic actions:\n",
    "    - 0: move south\n",
    "    - 1: move north\n",
    "    - 2: move east\n",
    "    - 3: move west\n",
    "    - 4: pickup passenger\n",
    "    - 5: drop off passenger\n",
    "\n",
    "    Rewards:\n",
    "    There is a default per-step reward of -1,\n",
    "    except for delivering the passenger, which is +20,\n",
    "    or executing \"pickup\" and \"drop-off\" actions illegally, which is -10.\n",
    "    \n",
    "    Rendering:\n",
    "    - blue: passenger\n",
    "    - magenta: destination\n",
    "    - yellow: empty taxi\n",
    "    - green: full taxi\n",
    "    - other letters (R, G, Y and B): locations for passengers and destinations\n",
    "    \n",
    "    state space is represented by:\n",
    "        (taxi_row, taxi_col, passenger_location, destination)\n",
    "#"
   ]
  },
  {
   "cell_type": "markdown",
   "metadata": {},
   "source": [
    "So how do we interact with the environment?\n",
    "\n",
    "Essentially you only need two methods: a way to reset the environment once the passenger has been dropped off, and a way to take a specific action. \n",
    "\n",
    "We first take a look at the env.reset() method. When you reset a gym environment, it returns the initial state of the env. Technically the state should be a 4-dim vector: (taxi_row, taxi_col, passenger_location, destination), but since there are only 500 possible states the vector is encoded to an integer value. If you want to make sense of this value in its original representation you can use the provided env.decode() method.  \n"
   ]
  },
  {
   "cell_type": "code",
   "execution_count": 5,
   "metadata": {},
   "outputs": [
    {
     "name": "stdout",
     "output_type": "stream",
     "text": [
      "[2, 4, 1, 2]\n",
      "+---------+\n",
      "|R: | : :\u001b[34;1mG\u001b[0m|\n",
      "| : | : : |\n",
      "| : : : :\u001b[43m \u001b[0m|\n",
      "| | : | : |\n",
      "|\u001b[35mY\u001b[0m| : |B: |\n",
      "+---------+\n",
      "\n"
     ]
    }
   ],
   "source": [
    "output = env.reset()\n",
    "print(list(env.decode(output)))\n",
    "env.render()\n"
   ]
  },
  {
   "cell_type": "code",
   "execution_count": 6,
   "metadata": {},
   "outputs": [
    {
     "name": "stdout",
     "output_type": "stream",
     "text": [
      "286\n"
     ]
    }
   ],
   "source": [
    "print(output)"
   ]
  },
  {
   "cell_type": "markdown",
   "metadata": {},
   "source": [
    "Okay that was the reset, now the second ingredient we need is a way to control the env. We can do this with env.step(), where the input should be an integer b/w 0 and 5 as described above. Once we take our desired action with env.step(), it returns 4 items: the next state,the reward recieved for taking our action, a boolean that checks if we are done, and information regarding the states visited (we dont need this last part). "
   ]
  },
  {
   "cell_type": "code",
   "execution_count": 7,
   "metadata": {},
   "outputs": [
    {
     "name": "stdout",
     "output_type": "stream",
     "text": [
      "+---------+\n",
      "|R: | : :\u001b[34;1mG\u001b[0m|\n",
      "| : | : : |\n",
      "| : : : :\u001b[43m \u001b[0m|\n",
      "| | : | : |\n",
      "|\u001b[35mY\u001b[0m| : |B: |\n",
      "+---------+\n",
      "  (Pickup)\n",
      "state: \t [2, 4, 1, 2]\n",
      "rew: \t -10\n",
      "done: \t False\n"
     ]
    }
   ],
   "source": [
    "state, rew, done, _ = env.step(4)\n",
    "env.render()\n",
    "print('state: \\t', list(env.decode(state)))\n",
    "print('rew: \\t', rew)\n",
    "print('done: \\t', done)\n"
   ]
  },
  {
   "cell_type": "markdown",
   "metadata": {},
   "source": [
    "### II. Markov Decision Processes\n",
    "Markov Chains (MC) are powerful tools for modeling the dynamics of systems. What if we wanted to use an MC to model a certain game, evaluating different policies to compare them? We can just use MCs, but since we want a good metric to evaluate these policies, we need to consider taking different actions and recieving a reward signal for feedback. At some state $s_t$ in the MC, we can take an action $a_t$, and observe not only the next state $s_{t+1}$, but also the reward $r_t$ associated with that transition. This is how Markov Decision Processes (MDP) are formed i.e., they combine elements of control with the Markovian model.  \n",
    "\n",
    "MDPs rely on the Markov Assumption:\n",
    "$$\n",
    "P(s_{t+1}|s_t,a_t)=P(s_{t+1}|h_t,a_t),\n",
    "$$\n",
    "where $h_t$ is the history of all states up to step $t$. Essentially, this says that we only need to know the current state and the action to predict the outcome. With this assumption, we can formulate an MDP $\\mathcal{M}:\\{\\mathcal{S},\\mathcal{A},P,R\\}$ as a collection of a set of states, a set of actions, a probability transition function and a reward transition function respectively. \n",
    "\n",
    "We also need a way to express the policy:  \n",
    "$$\\pi: \\mathcal{S}\\mapsto\\mathcal{A},$$\n",
    "where in the determenistic case $\\pi(s)=a$. Otherwise $\\pi(a|s) = Pr.(a_t=a|s_t=s)$\n",
    "\n",
    "At every state $s_t$, we receive a reward $r_t=R(s,a)$ for taking action $a_t$. By rolling out a certain policy $\\pi$ in our MDP, we can collect what we call the return at step $t$:\n",
    "$$\n",
    "G_t = r_t + \\gamma r_{t+1} + \\gamma^2 r_{t+2} + \\ldots.\n",
    "$$\n",
    "You can think of this as the total payout we will get if we run polciy $\\pi$ in our given MDP, where $\\gamma$ is a the discount factor we give towards rewards we receive in the future. We set $\\gamma<1$ in order to give higher weight to rewards that come sooner, but also this makes sure that our return $G_t$ is finite even if our policy runs for an infinite time. This way we do not have to worry about the horizon of our MDP. \n",
    "\n",
    "\n",
    "\n"
   ]
  },
  {
   "cell_type": "markdown",
   "metadata": {},
   "source": [
    "#### Value and Q Function.\n",
    "A major component in reinforcement learning is keeping track of the expected return a certain policy will provide in an environment. This is defined as the value function:\n",
    "$$\n",
    "V^{\\pi}(s_t=s)=E_{\\pi}[G_t|s_t=s].\n",
    "$$\n",
    "If we knew the value function for any policy $\\pi$, we can easily compare the quality of different polcieis. But we can go one step further with our evaluation. Say at a given state $s_t$ we wanted to evaluate our policy $\\pi$, but only after taking a certain action $a_t$, and then continuing with our policy $\\pi$. This is defined as the Q-function: \n",
    "$$\n",
    "Q^{\\pi}(s_t=s,a_t=a) = R(s,a) + \\gamma\\sum_{s'\\in\\mathcal{S}}P(s'|s,a)V^{\\pi}(s')\n",
    "$$\n",
    "The methodology here is that we can now evaluate our off policy decision to take action $a$. Since we know how we can estimate the value function, computing the Q-values allows us to take $\\max_a Q^\\pi(s,a)$ instead of following the policy, since this is gauranteed to be atleast as good as following $\\pi$. "
   ]
  },
  {
   "cell_type": "markdown",
   "metadata": {},
   "source": [
    "### III. Tabular Q-Learning\n",
    "In Q-Learning we measure the Temporal Difference between **target** and **current estimate** of the Q-function. \n",
    "$$\n",
    "\\begin{align}\n",
    "\\textrm{target: }&\\qquad r_t + \\gamma\\max_{a'}Q(s_{t+1},a')\\\\\n",
    "\\textrm{estimate: }&\\qquad Q(s_t,a_t)\n",
    "\\end{align}\n",
    "$$\n",
    "Their difference measures the error between what the environment is telling us, and our current estimate. We can use this error to update our current estimate, which formulates the Q-learning algorithm:\n",
    "$$\n",
    "Q(s_t,a_t) := Q(s_t,a_t)+\\alpha\\Big(r_t+\\gamma\\max_{a'}Q(s_{t+1},a')-Q(s_t,a_t)\\Big).\n",
    "$$\n",
    "Now we just need a way to evaluate the policy, for which we use the epsilon-greedy approach: \n",
    "$$\n",
    "\\pi(a|s)=\n",
    "\\begin{cases}\n",
    "\\textrm{arg}\\max_a Q^\\pi(s,a)\\qquad \\textrm{w. prob } 1-\\epsilon,\\\\\n",
    "\\textrm{take a random action}\\qquad \\textrm{w. prob } \\epsilon.\n",
    "\\end{cases}\n",
    "$$\n",
    "Note how $\\epsilon$ controls how much we $\\textit{explore}$ the environment versus how much we $\\textit{exploit}$ our policy. A lot of RL is posed as a battle between exploration and exploitation, hence $\\epsilon$ is an important parameter. Typically we want to decrease the amount we explore as our policy gets better, and we do this by adapting some sort of **decay** to $\\epsilon$. In addition, since $\\alpha$ controls the speed at which we update our policy, you can consider adapting some decay as well. \n",
    "\n",
    "I will leave this element for you to experiment with, as it serves as an interesting challenge to try and find the correct parameters and fine tune. As a reference, you should be able to find the policy within 20,000 episodes (where episodes end when the taxi drops off the passenger.) In fact, even 5,000 is enough but you will see slight improvement following. \n",
    "\n"
   ]
  },
  {
   "cell_type": "markdown",
   "metadata": {},
   "source": [
    "#### Your task.\n",
    "\n",
    "The actual algorithm can be written within one cell, or broken up into smaller components, it is your choice. There are only two things I require:\n",
    "\n",
    "(1) **Represent your Q-table as an np.array of size (500,6)**, hence 500 states and 6 actions. This will let you use my policy evaluation function that follows to check if you found the solution. You might want to take a look at that function first if you have any confusion about how to interact with the gym env. \n",
    "\n",
    "(2) **Collect reward statistic of your policy over the 20,000 episodes, and plot it yourself.** You will  probably want this statistic for yourself anyway, but the plotting component is added so that we can better visualize our data. Typically we consider the episodic reward collected over one rollout, but note that using this directly will give youa noisy result. I leave the figure making up to you this time, feel free to use the templates or anything else that you like! "
   ]
  },
  {
   "cell_type": "markdown",
   "metadata": {},
   "source": [
    "Task (1):\n",
    "\n",
    "Your Q-learning algorithm goes below. "
   ]
  },
  {
   "cell_type": "code",
   "execution_count": 43,
   "metadata": {},
   "outputs": [],
   "source": [
    "# tuning parameters\n",
    "eps = .1\n",
    "lr = .75\n",
    "df = 1\n",
    "\n",
    "# define optimal action lookup function\n",
    "optimal = lambda state: np.argmax(Q_table[state])\n",
    "\n",
    "# initialize rng\n",
    "rng = default_rng()\n",
    "\n",
    "# init state action table\n",
    "Q_table = np.zeros((500,6))\n",
    "\n",
    "# init episode reward vector\n",
    "ep_rewards = np.zeros(20000)"
   ]
  },
  {
   "cell_type": "code",
   "execution_count": 44,
   "metadata": {
    "tags": []
   },
   "outputs": [],
   "source": [
    "# train\n",
    "for i in range(20000):\n",
    "    state = env.reset()\n",
    "    done = False\n",
    "    accum_reward = 0\n",
    "    while not done:\n",
    "# choose action\n",
    "        if rng.uniform() > eps:\n",
    "                action = optimal(state)\n",
    "        else:\n",
    "                action = rng.integers(6)\n",
    "# perform action, updating state, reward, stop condition\n",
    "        newstate, reward, done, _ = env.step(action)\n",
    "        accum_reward += reward\n",
    "# compute temporal difference\n",
    "        td = reward + df*Q_table[newstate, optimal(newstate)] - Q_table[state, action]\n",
    "# update Q value for previous state\n",
    "        Q_table[state, action] += lr*td\n",
    "# prepare for next step\n",
    "        state = newstate\n",
    "    ep_rewards[i] = accum_reward"
   ]
  },
  {
   "cell_type": "code",
   "execution_count": 36,
   "metadata": {},
   "outputs": [],
   "source": [
    "def eval_policy(env, Q_table):\n",
    "    '''\n",
    "    Evaluates the environment using the given policy \n",
    "    Inputs:\n",
    "        env - gym env object\n",
    "        Q   - policy, we will use arg max Q. \n",
    "\n",
    "    Note that I use count to make sure we exit the \n",
    "    rendering if our policy takes longer than 50 steps. \n",
    "    This way we can observe arbitrary Q tables, feel\n",
    "    free to tune this value.  \n",
    "    '''\n",
    "    state = env.reset()\n",
    "    env.render()\n",
    "    done = False\n",
    "    count = 50\n",
    "    while not done:\n",
    "        count-=1\n",
    "        if count <= 0:\n",
    "            return\n",
    "\n",
    "        act = np.argmax(Q_table[state])\n",
    "        state, rew, done, _ = env.step(act)\n",
    "        env.render()\n",
    "\n",
    "        print('state: \\t', list(env.decode(state)))\n",
    "        print('rew: \\t', rew)\n",
    "        print('done: \\t', done)\n",
    "    # return\n"
   ]
  },
  {
   "cell_type": "markdown",
   "metadata": {},
   "source": [
    "We can now evaluate our policy using the Q table. \n"
   ]
  },
  {
   "cell_type": "code",
   "execution_count": 41,
   "metadata": {
    "tags": []
   },
   "outputs": [
    {
     "name": "stdout",
     "output_type": "stream",
     "text": [
      "+---------+\n",
      "|R: | : :\u001b[34;1mG\u001b[0m|\n",
      "| : | : : |\n",
      "| : : : : |\n",
      "| | : | : |\n",
      "|Y|\u001b[43m \u001b[0m: |\u001b[35mB\u001b[0m: |\n",
      "+---------+\n",
      "\n",
      "+---------+\n",
      "|R: | : :\u001b[34;1mG\u001b[0m|\n",
      "| : | : : |\n",
      "| : : : : |\n",
      "| |\u001b[43m \u001b[0m: | : |\n",
      "|Y| : |\u001b[35mB\u001b[0m: |\n",
      "+---------+\n",
      "  (North)\n",
      "state: \t [3, 1, 1, 3]\n",
      "rew: \t -1\n",
      "done: \t False\n",
      "+---------+\n",
      "|R: | : :\u001b[34;1mG\u001b[0m|\n",
      "| : | : : |\n",
      "| : : : : |\n",
      "| | :\u001b[43m \u001b[0m| : |\n",
      "|Y| : |\u001b[35mB\u001b[0m: |\n",
      "+---------+\n",
      "  (East)\n",
      "state: \t [3, 2, 1, 3]\n",
      "rew: \t -1\n",
      "done: \t False\n",
      "+---------+\n",
      "|R: | : :\u001b[34;1mG\u001b[0m|\n",
      "| : | : : |\n",
      "| : :\u001b[43m \u001b[0m: : |\n",
      "| | : | : |\n",
      "|Y| : |\u001b[35mB\u001b[0m: |\n",
      "+---------+\n",
      "  (North)\n",
      "state: \t [2, 2, 1, 3]\n",
      "rew: \t -1\n",
      "done: \t False\n",
      "+---------+\n",
      "|R: | : :\u001b[34;1mG\u001b[0m|\n",
      "| : |\u001b[43m \u001b[0m: : |\n",
      "| : : : : |\n",
      "| | : | : |\n",
      "|Y| : |\u001b[35mB\u001b[0m: |\n",
      "+---------+\n",
      "  (North)\n",
      "state: \t [1, 2, 1, 3]\n",
      "rew: \t -1\n",
      "done: \t False\n",
      "+---------+\n",
      "|R: | : :\u001b[34;1mG\u001b[0m|\n",
      "| : | :\u001b[43m \u001b[0m: |\n",
      "| : : : : |\n",
      "| | : | : |\n",
      "|Y| : |\u001b[35mB\u001b[0m: |\n",
      "+---------+\n",
      "  (East)\n",
      "state: \t [1, 3, 1, 3]\n",
      "rew: \t -1\n",
      "done: \t False\n",
      "+---------+\n",
      "|R: | : :\u001b[34;1mG\u001b[0m|\n",
      "| : | : :\u001b[43m \u001b[0m|\n",
      "| : : : : |\n",
      "| | : | : |\n",
      "|Y| : |\u001b[35mB\u001b[0m: |\n",
      "+---------+\n",
      "  (East)\n",
      "state: \t [1, 4, 1, 3]\n",
      "rew: \t -1\n",
      "done: \t False\n",
      "+---------+\n",
      "|R: | : :\u001b[34;1m\u001b[43mG\u001b[0m\u001b[0m|\n",
      "| : | : : |\n",
      "| : : : : |\n",
      "| | : | : |\n",
      "|Y| : |\u001b[35mB\u001b[0m: |\n",
      "+---------+\n",
      "  (North)\n",
      "state: \t [0, 4, 1, 3]\n",
      "rew: \t -1\n",
      "done: \t False\n",
      "+---------+\n",
      "|R: | : :\u001b[42mG\u001b[0m|\n",
      "| : | : : |\n",
      "| : : : : |\n",
      "| | : | : |\n",
      "|Y| : |\u001b[35mB\u001b[0m: |\n",
      "+---------+\n",
      "  (Pickup)\n",
      "state: \t [0, 4, 4, 3]\n",
      "rew: \t -1\n",
      "done: \t False\n",
      "+---------+\n",
      "|R: | : :G|\n",
      "| : | : :\u001b[42m_\u001b[0m|\n",
      "| : : : : |\n",
      "| | : | : |\n",
      "|Y| : |\u001b[35mB\u001b[0m: |\n",
      "+---------+\n",
      "  (South)\n",
      "state: \t [1, 4, 4, 3]\n",
      "rew: \t -1\n",
      "done: \t False\n",
      "+---------+\n",
      "|R: | : :G|\n",
      "| : | :\u001b[42m_\u001b[0m: |\n",
      "| : : : : |\n",
      "| | : | : |\n",
      "|Y| : |\u001b[35mB\u001b[0m: |\n",
      "+---------+\n",
      "  (West)\n",
      "state: \t [1, 3, 4, 3]\n",
      "rew: \t -1\n",
      "done: \t False\n",
      "+---------+\n",
      "|R: | : :G|\n",
      "| : | : : |\n",
      "| : : :\u001b[42m_\u001b[0m: |\n",
      "| | : | : |\n",
      "|Y| : |\u001b[35mB\u001b[0m: |\n",
      "+---------+\n",
      "  (South)\n",
      "state: \t [2, 3, 4, 3]\n",
      "rew: \t -1\n",
      "done: \t False\n",
      "+---------+\n",
      "|R: | : :G|\n",
      "| : | : : |\n",
      "| : : : : |\n",
      "| | : |\u001b[42m_\u001b[0m: |\n",
      "|Y| : |\u001b[35mB\u001b[0m: |\n",
      "+---------+\n",
      "  (South)\n",
      "state: \t [3, 3, 4, 3]\n",
      "rew: \t -1\n",
      "done: \t False\n",
      "+---------+\n",
      "|R: | : :G|\n",
      "| : | : : |\n",
      "| : : : : |\n",
      "| | : | : |\n",
      "|Y| : |\u001b[35m\u001b[42mB\u001b[0m\u001b[0m: |\n",
      "+---------+\n",
      "  (South)\n",
      "state: \t [4, 3, 4, 3]\n",
      "rew: \t -1\n",
      "done: \t False\n",
      "+---------+\n",
      "|R: | : :G|\n",
      "| : | : : |\n",
      "| : : : : |\n",
      "| | : | : |\n",
      "|Y| : |\u001b[35m\u001b[34;1m\u001b[43mB\u001b[0m\u001b[0m\u001b[0m: |\n",
      "+---------+\n",
      "  (Dropoff)\n",
      "state: \t [4, 3, 3, 3]\n",
      "rew: \t 20\n",
      "done: \t True\n"
     ]
    }
   ],
   "source": [
    "eval_policy(env, Q_table)"
   ]
  },
  {
   "cell_type": "markdown",
   "metadata": {},
   "source": [
    "Feel free to use this template for your second task."
   ]
  },
  {
   "cell_type": "code",
   "execution_count": 47,
   "metadata": {},
   "outputs": [
    {
     "ename": "ModuleNotFoundError",
     "evalue": "No module named 'matplotlib_inline'",
     "output_type": "error",
     "traceback": [
      "\u001b[1;31m---------------------------------------------------------------------------\u001b[0m",
      "\u001b[1;31mModuleNotFoundError\u001b[0m                       Traceback (most recent call last)",
      "\u001b[1;32mc:\\Users\\dragm\\Documents\\GitHub\\lab4\\lab4.ipynb Cell 26'\u001b[0m in \u001b[0;36m<cell line: 1>\u001b[1;34m()\u001b[0m\n\u001b[1;32m----> <a href='vscode-notebook-cell:/c%3A/Users/dragm/Documents/GitHub/lab4/lab4.ipynb#ch0000025?line=0'>1</a>\u001b[0m \u001b[39mimport\u001b[39;00m \u001b[39mmatplotlib\u001b[39;00m\u001b[39m.\u001b[39;00m\u001b[39mpyplot\u001b[39;00m \u001b[39mas\u001b[39;00m \u001b[39mplt\u001b[39;00m\n\u001b[0;32m      <a href='vscode-notebook-cell:/c%3A/Users/dragm/Documents/GitHub/lab4/lab4.ipynb#ch0000025?line=1'>2</a>\u001b[0m \u001b[39mfrom\u001b[39;00m \u001b[39mmatplotlib\u001b[39;00m \u001b[39mimport\u001b[39;00m rc\n\u001b[0;32m      <a href='vscode-notebook-cell:/c%3A/Users/dragm/Documents/GitHub/lab4/lab4.ipynb#ch0000025?line=2'>3</a>\u001b[0m \u001b[39mimport\u001b[39;00m \u001b[39mmatplotlib\u001b[39;00m \u001b[39mas\u001b[39;00m \u001b[39mmpl\u001b[39;00m\n",
      "File \u001b[1;32mc:\\Users\\dragm\\anaconda3\\envs\\lab4\\lib\\site-packages\\matplotlib\\pyplot.py:2336\u001b[0m, in \u001b[0;36m<module>\u001b[1;34m\u001b[0m\n\u001b[0;32m   <a href='file:///c%3A/Users/dragm/anaconda3/envs/lab4/lib/site-packages/matplotlib/pyplot.py?line=2333'>2334</a>\u001b[0m     \u001b[39mdict\u001b[39m\u001b[39m.\u001b[39m\u001b[39m__setitem__\u001b[39m(rcParams, \u001b[39m\"\u001b[39m\u001b[39mbackend\u001b[39m\u001b[39m\"\u001b[39m, rcsetup\u001b[39m.\u001b[39m_auto_backend_sentinel)\n\u001b[0;32m   <a href='file:///c%3A/Users/dragm/anaconda3/envs/lab4/lib/site-packages/matplotlib/pyplot.py?line=2334'>2335</a>\u001b[0m \u001b[39m# Set up the backend.\u001b[39;00m\n\u001b[1;32m-> <a href='file:///c%3A/Users/dragm/anaconda3/envs/lab4/lib/site-packages/matplotlib/pyplot.py?line=2335'>2336</a>\u001b[0m switch_backend(rcParams[\u001b[39m\"\u001b[39;49m\u001b[39mbackend\u001b[39;49m\u001b[39m\"\u001b[39;49m])\n\u001b[0;32m   <a href='file:///c%3A/Users/dragm/anaconda3/envs/lab4/lib/site-packages/matplotlib/pyplot.py?line=2337'>2338</a>\u001b[0m \u001b[39m# Just to be safe.  Interactive mode can be turned on without\u001b[39;00m\n\u001b[0;32m   <a href='file:///c%3A/Users/dragm/anaconda3/envs/lab4/lib/site-packages/matplotlib/pyplot.py?line=2338'>2339</a>\u001b[0m \u001b[39m# calling `plt.ion()` so register it again here.\u001b[39;00m\n\u001b[0;32m   <a href='file:///c%3A/Users/dragm/anaconda3/envs/lab4/lib/site-packages/matplotlib/pyplot.py?line=2339'>2340</a>\u001b[0m \u001b[39m# This is safe because multiple calls to `install_repl_displayhook`\u001b[39;00m\n\u001b[0;32m   <a href='file:///c%3A/Users/dragm/anaconda3/envs/lab4/lib/site-packages/matplotlib/pyplot.py?line=2340'>2341</a>\u001b[0m \u001b[39m# are no-ops and the registered function respect `mpl.is_interactive()`\u001b[39;00m\n\u001b[0;32m   <a href='file:///c%3A/Users/dragm/anaconda3/envs/lab4/lib/site-packages/matplotlib/pyplot.py?line=2341'>2342</a>\u001b[0m \u001b[39m# to determine if they should trigger a draw.\u001b[39;00m\n\u001b[0;32m   <a href='file:///c%3A/Users/dragm/anaconda3/envs/lab4/lib/site-packages/matplotlib/pyplot.py?line=2342'>2343</a>\u001b[0m install_repl_displayhook()\n",
      "File \u001b[1;32mc:\\Users\\dragm\\anaconda3\\envs\\lab4\\lib\\site-packages\\matplotlib\\pyplot.py:276\u001b[0m, in \u001b[0;36mswitch_backend\u001b[1;34m(newbackend)\u001b[0m\n\u001b[0;32m    <a href='file:///c%3A/Users/dragm/anaconda3/envs/lab4/lib/site-packages/matplotlib/pyplot.py?line=268'>269</a>\u001b[0m \u001b[39m# Backends are implemented as modules, but \"inherit\" default method\u001b[39;00m\n\u001b[0;32m    <a href='file:///c%3A/Users/dragm/anaconda3/envs/lab4/lib/site-packages/matplotlib/pyplot.py?line=269'>270</a>\u001b[0m \u001b[39m# implementations from backend_bases._Backend.  This is achieved by\u001b[39;00m\n\u001b[0;32m    <a href='file:///c%3A/Users/dragm/anaconda3/envs/lab4/lib/site-packages/matplotlib/pyplot.py?line=270'>271</a>\u001b[0m \u001b[39m# creating a \"class\" that inherits from backend_bases._Backend and whose\u001b[39;00m\n\u001b[0;32m    <a href='file:///c%3A/Users/dragm/anaconda3/envs/lab4/lib/site-packages/matplotlib/pyplot.py?line=271'>272</a>\u001b[0m \u001b[39m# body is filled with the module's globals.\u001b[39;00m\n\u001b[0;32m    <a href='file:///c%3A/Users/dragm/anaconda3/envs/lab4/lib/site-packages/matplotlib/pyplot.py?line=273'>274</a>\u001b[0m backend_name \u001b[39m=\u001b[39m cbook\u001b[39m.\u001b[39m_backend_module_name(newbackend)\n\u001b[1;32m--> <a href='file:///c%3A/Users/dragm/anaconda3/envs/lab4/lib/site-packages/matplotlib/pyplot.py?line=275'>276</a>\u001b[0m \u001b[39mclass\u001b[39;00m \u001b[39mbackend_mod\u001b[39;00m(matplotlib\u001b[39m.\u001b[39mbackend_bases\u001b[39m.\u001b[39m_Backend):\n\u001b[0;32m    <a href='file:///c%3A/Users/dragm/anaconda3/envs/lab4/lib/site-packages/matplotlib/pyplot.py?line=276'>277</a>\u001b[0m     \u001b[39mlocals\u001b[39m()\u001b[39m.\u001b[39mupdate(\u001b[39mvars\u001b[39m(importlib\u001b[39m.\u001b[39mimport_module(backend_name)))\n\u001b[0;32m    <a href='file:///c%3A/Users/dragm/anaconda3/envs/lab4/lib/site-packages/matplotlib/pyplot.py?line=278'>279</a>\u001b[0m required_framework \u001b[39m=\u001b[39m _get_required_interactive_framework(backend_mod)\n",
      "File \u001b[1;32mc:\\Users\\dragm\\anaconda3\\envs\\lab4\\lib\\site-packages\\matplotlib\\pyplot.py:277\u001b[0m, in \u001b[0;36mswitch_backend.<locals>.backend_mod\u001b[1;34m()\u001b[0m\n\u001b[0;32m    <a href='file:///c%3A/Users/dragm/anaconda3/envs/lab4/lib/site-packages/matplotlib/pyplot.py?line=275'>276</a>\u001b[0m \u001b[39mclass\u001b[39;00m \u001b[39mbackend_mod\u001b[39;00m(matplotlib\u001b[39m.\u001b[39mbackend_bases\u001b[39m.\u001b[39m_Backend):\n\u001b[1;32m--> <a href='file:///c%3A/Users/dragm/anaconda3/envs/lab4/lib/site-packages/matplotlib/pyplot.py?line=276'>277</a>\u001b[0m     \u001b[39mlocals\u001b[39m()\u001b[39m.\u001b[39mupdate(\u001b[39mvars\u001b[39m(importlib\u001b[39m.\u001b[39;49mimport_module(backend_name)))\n",
      "File \u001b[1;32mc:\\Users\\dragm\\anaconda3\\envs\\lab4\\lib\\importlib\\__init__.py:127\u001b[0m, in \u001b[0;36mimport_module\u001b[1;34m(name, package)\u001b[0m\n\u001b[0;32m    <a href='file:///c%3A/Users/dragm/anaconda3/envs/lab4/lib/importlib/__init__.py?line=124'>125</a>\u001b[0m             \u001b[39mbreak\u001b[39;00m\n\u001b[0;32m    <a href='file:///c%3A/Users/dragm/anaconda3/envs/lab4/lib/importlib/__init__.py?line=125'>126</a>\u001b[0m         level \u001b[39m+\u001b[39m\u001b[39m=\u001b[39m \u001b[39m1\u001b[39m\n\u001b[1;32m--> <a href='file:///c%3A/Users/dragm/anaconda3/envs/lab4/lib/importlib/__init__.py?line=126'>127</a>\u001b[0m \u001b[39mreturn\u001b[39;00m _bootstrap\u001b[39m.\u001b[39;49m_gcd_import(name[level:], package, level)\n",
      "\u001b[1;31mModuleNotFoundError\u001b[0m: No module named 'matplotlib_inline'"
     ]
    }
   ],
   "source": [
    "import matplotlib.pyplot as plt\n",
    "from matplotlib import rc\n",
    "import matplotlib as mpl\n",
    "# colors used\n",
    "ORANGE = '#FF9132'\n",
    "TEAL = '#0598B0'\n",
    "GREEN = '#008F00'\n",
    "PURPLE = '#8A2BE2'\n",
    "GRAY = '#969696'\n",
    "FIG_WIDTH = 4\n",
    "FIG_HEIGHT = 3\n",
    "\n",
    "plt.rcParams.update({\n",
    "    \"text.usetex\": False,\n",
    "    \"font.family\": \"DejaVu Sans\",\n",
    "    \"font.serif\": [\"Palatino\"],\n",
    "    \"font.size\": 12,\n",
    "    \"axes.titlesize\": 15,\n",
    "    \"axes.spines.right\": False,\n",
    "    \"axes.spines.top\": False,\n",
    "    \"lines.linewidth\": 2\n",
    "})"
   ]
  },
  {
   "cell_type": "markdown",
   "metadata": {},
   "source": [
    "Task (2):\n",
    "\n",
    "Plot your data below."
   ]
  },
  {
   "cell_type": "code",
   "execution_count": 12,
   "metadata": {},
   "outputs": [
    {
     "data": {
      "image/png": "[encoded data removed]",
      "image/svg+xml": "<?xml version=\"1.0\" encoding=\"utf-8\" standalone=\"no\"?>\n<!DOCTYPE svg PUBLIC \"-//W3C//DTD SVG 1.1//EN\"\n  \"http://www.w3.org/Graphics/SVG/1.1/DTD/svg11.dtd\">\n<!-- Created with matplotlib (https://matplotlib.org/) -->\n<svg height=\"229.105156pt\" version=\"1.1\" viewBox=\"0 0 302.126566 229.105156\" width=\"302.126566pt\" xmlns=\"http://www.w3.org/2000/svg\" xmlns:xlink=\"http://www.w3.org/1999/xlink\">\n <metadata>\n  <rdf:RDF xmlns:cc=\"http://creativecommons.org/ns#\" xmlns:dc=\"http://purl.org/dc/elements/1.1/\" xmlns:rdf=\"http://www.w3.org/1999/02/22-rdf-syntax-ns#\">\n   <cc:Work>\n    <dc:type rdf:resource=\"http://purl.org/dc/dcmitype/StillImage\"/>\n    <dc:date>2021-05-19T16:45:14.564454</dc:date>\n    <dc:format>image/svg+xml</dc:format>\n    <dc:creator>\n     <cc:Agent>\n      <dc:title>Matplotlib v3.3.4, https://matplotlib.org/</dc:title>\n     </cc:Agent>\n    </dc:creator>\n   </cc:Work>\n  </rdf:RDF>\n </metadata>\n <defs>\n  <style type=\"text/css\">*{stroke-linecap:butt;stroke-linejoin:round;}</style>\n </defs>\n <g id=\"figure_1\">\n  <g id=\"patch_1\">\n   <path d=\"M 0 229.105156 \nL 302.126566 229.105156 \nL 302.126566 0 \nL 0 0 \nz\n\" style=\"fill:none;\"/>\n  </g>\n  <g id=\"axes_1\">\n   <g id=\"patch_2\">\n    <path d=\"M 62.774375 187.677656 \nL 285.974375 187.677656 \nL 285.974375 24.597656 \nL 62.774375 24.597656 \nz\n\" style=\"fill:#ffffff;\"/>\n   </g>\n   <g id=\"matplotlib.axis_1\">\n    <g id=\"xtick_1\">\n     <g id=\"line2d_1\">\n      <defs>\n       <path d=\"M 0 0 \nL 0 3.5 \n\" id=\"m15fc293d82\" style=\"stroke:#000000;stroke-width:0.8;\"/>\n      </defs>\n      <g>\n       <use style=\"stroke:#000000;stroke-width:0.8;\" x=\"72.91983\" xlink:href=\"#m15fc293d82\" y=\"187.677656\"/>\n      </g>\n     </g>\n     <g id=\"text_1\">\n      <!-- 0 -->\n      <g transform=\"translate(69.10233 203.795781)scale(0.12 -0.12)\">\n       <defs>\n        <path d=\"M 31.78125 66.40625 \nQ 24.171875 66.40625 20.328125 58.90625 \nQ 16.5 51.421875 16.5 36.375 \nQ 16.5 21.390625 20.328125 13.890625 \nQ 24.171875 6.390625 31.78125 6.390625 \nQ 39.453125 6.390625 43.28125 13.890625 \nQ 47.125 21.390625 47.125 36.375 \nQ 47.125 51.421875 43.28125 58.90625 \nQ 39.453125 66.40625 31.78125 66.40625 \nz\nM 31.78125 74.21875 \nQ 44.046875 74.21875 50.515625 64.515625 \nQ 56.984375 54.828125 56.984375 36.375 \nQ 56.984375 17.96875 50.515625 8.265625 \nQ 44.046875 -1.421875 31.78125 -1.421875 \nQ 19.53125 -1.421875 13.0625 8.265625 \nQ 6.59375 17.96875 6.59375 36.375 \nQ 6.59375 54.828125 13.0625 64.515625 \nQ 19.53125 74.21875 31.78125 74.21875 \nz\n\" id=\"DejaVuSans-48\"/>\n       </defs>\n       <use xlink:href=\"#DejaVuSans-48\"/>\n      </g>\n     </g>\n    </g>\n    <g id=\"xtick_2\">\n     <g id=\"line2d_2\">\n      <g>\n       <use style=\"stroke:#000000;stroke-width:0.8;\" x=\"123.649639\" xlink:href=\"#m15fc293d82\" y=\"187.677656\"/>\n      </g>\n     </g>\n     <g id=\"text_2\">\n      <!-- 5000 -->\n      <g transform=\"translate(108.379639 203.795781)scale(0.12 -0.12)\">\n       <defs>\n        <path d=\"M 10.796875 72.90625 \nL 49.515625 72.90625 \nL 49.515625 64.59375 \nL 19.828125 64.59375 \nL 19.828125 46.734375 \nQ 21.96875 47.46875 24.109375 47.828125 \nQ 26.265625 48.1875 28.421875 48.1875 \nQ 40.625 48.1875 47.75 41.5 \nQ 54.890625 34.8125 54.890625 23.390625 \nQ 54.890625 11.625 47.5625 5.09375 \nQ 40.234375 -1.421875 26.90625 -1.421875 \nQ 22.3125 -1.421875 17.546875 -0.640625 \nQ 12.796875 0.140625 7.71875 1.703125 \nL 7.71875 11.625 \nQ 12.109375 9.234375 16.796875 8.0625 \nQ 21.484375 6.890625 26.703125 6.890625 \nQ 35.15625 6.890625 40.078125 11.328125 \nQ 45.015625 15.765625 45.015625 23.390625 \nQ 45.015625 31 40.078125 35.4375 \nQ 35.15625 39.890625 26.703125 39.890625 \nQ 22.75 39.890625 18.8125 39.015625 \nQ 14.890625 38.140625 10.796875 36.28125 \nz\n\" id=\"DejaVuSans-53\"/>\n       </defs>\n       <use xlink:href=\"#DejaVuSans-53\"/>\n       <use x=\"63.623047\" xlink:href=\"#DejaVuSans-48\"/>\n       <use x=\"127.246094\" xlink:href=\"#DejaVuSans-48\"/>\n       <use x=\"190.869141\" xlink:href=\"#DejaVuSans-48\"/>\n      </g>\n     </g>\n    </g>\n    <g id=\"xtick_3\">\n     <g id=\"line2d_3\">\n      <g>\n       <use style=\"stroke:#000000;stroke-width:0.8;\" x=\"174.379448\" xlink:href=\"#m15fc293d82\" y=\"187.677656\"/>\n      </g>\n     </g>\n     <g id=\"text_3\">\n      <!-- 10000 -->\n      <g transform=\"translate(155.291948 203.795781)scale(0.12 -0.12)\">\n       <defs>\n        <path d=\"M 12.40625 8.296875 \nL 28.515625 8.296875 \nL 28.515625 63.921875 \nL 10.984375 60.40625 \nL 10.984375 69.390625 \nL 28.421875 72.90625 \nL 38.28125 72.90625 \nL 38.28125 8.296875 \nL 54.390625 8.296875 \nL 54.390625 0 \nL 12.40625 0 \nz\n\" id=\"DejaVuSans-49\"/>\n       </defs>\n       <use xlink:href=\"#DejaVuSans-49\"/>\n       <use x=\"63.623047\" xlink:href=\"#DejaVuSans-48\"/>\n       <use x=\"127.246094\" xlink:href=\"#DejaVuSans-48\"/>\n       <use x=\"190.869141\" xlink:href=\"#DejaVuSans-48\"/>\n       <use x=\"254.492188\" xlink:href=\"#DejaVuSans-48\"/>\n      </g>\n     </g>\n    </g>\n    <g id=\"xtick_4\">\n     <g id=\"line2d_4\">\n      <g>\n       <use style=\"stroke:#000000;stroke-width:0.8;\" x=\"225.109257\" xlink:href=\"#m15fc293d82\" y=\"187.677656\"/>\n      </g>\n     </g>\n     <g id=\"text_4\">\n      <!-- 15000 -->\n      <g transform=\"translate(206.021757 203.795781)scale(0.12 -0.12)\">\n       <use xlink:href=\"#DejaVuSans-49\"/>\n       <use x=\"63.623047\" xlink:href=\"#DejaVuSans-53\"/>\n       <use x=\"127.246094\" xlink:href=\"#DejaVuSans-48\"/>\n       <use x=\"190.869141\" xlink:href=\"#DejaVuSans-48\"/>\n       <use x=\"254.492188\" xlink:href=\"#DejaVuSans-48\"/>\n      </g>\n     </g>\n    </g>\n    <g id=\"xtick_5\">\n     <g id=\"line2d_5\">\n      <g>\n       <use style=\"stroke:#000000;stroke-width:0.8;\" x=\"275.839066\" xlink:href=\"#m15fc293d82\" y=\"187.677656\"/>\n      </g>\n     </g>\n     <g id=\"text_5\">\n      <!-- 20000 -->\n      <g transform=\"translate(256.751566 203.795781)scale(0.12 -0.12)\">\n       <defs>\n        <path d=\"M 19.1875 8.296875 \nL 53.609375 8.296875 \nL 53.609375 0 \nL 7.328125 0 \nL 7.328125 8.296875 \nQ 12.9375 14.109375 22.625 23.890625 \nQ 32.328125 33.6875 34.8125 36.53125 \nQ 39.546875 41.84375 41.421875 45.53125 \nQ 43.3125 49.21875 43.3125 52.78125 \nQ 43.3125 58.59375 39.234375 62.25 \nQ 35.15625 65.921875 28.609375 65.921875 \nQ 23.96875 65.921875 18.8125 64.3125 \nQ 13.671875 62.703125 7.8125 59.421875 \nL 7.8125 69.390625 \nQ 13.765625 71.78125 18.9375 73 \nQ 24.125 74.21875 28.421875 74.21875 \nQ 39.75 74.21875 46.484375 68.546875 \nQ 53.21875 62.890625 53.21875 53.421875 \nQ 53.21875 48.921875 51.53125 44.890625 \nQ 49.859375 40.875 45.40625 35.40625 \nQ 44.1875 33.984375 37.640625 27.21875 \nQ 31.109375 20.453125 19.1875 8.296875 \nz\n\" id=\"DejaVuSans-50\"/>\n       </defs>\n       <use xlink:href=\"#DejaVuSans-50\"/>\n       <use x=\"63.623047\" xlink:href=\"#DejaVuSans-48\"/>\n       <use x=\"127.246094\" xlink:href=\"#DejaVuSans-48\"/>\n       <use x=\"190.869141\" xlink:href=\"#DejaVuSans-48\"/>\n       <use x=\"254.492188\" xlink:href=\"#DejaVuSans-48\"/>\n      </g>\n     </g>\n    </g>\n    <g id=\"text_6\">\n     <!-- Episode  -->\n     <g transform=\"translate(148.9025 219.409531)scale(0.12 -0.12)\">\n      <defs>\n       <path d=\"M 9.8125 72.90625 \nL 55.90625 72.90625 \nL 55.90625 64.59375 \nL 19.671875 64.59375 \nL 19.671875 43.015625 \nL 54.390625 43.015625 \nL 54.390625 34.71875 \nL 19.671875 34.71875 \nL 19.671875 8.296875 \nL 56.78125 8.296875 \nL 56.78125 0 \nL 9.8125 0 \nz\n\" id=\"DejaVuSans-69\"/>\n       <path d=\"M 18.109375 8.203125 \nL 18.109375 -20.796875 \nL 9.078125 -20.796875 \nL 9.078125 54.6875 \nL 18.109375 54.6875 \nL 18.109375 46.390625 \nQ 20.953125 51.265625 25.265625 53.625 \nQ 29.59375 56 35.59375 56 \nQ 45.5625 56 51.78125 48.09375 \nQ 58.015625 40.1875 58.015625 27.296875 \nQ 58.015625 14.40625 51.78125 6.484375 \nQ 45.5625 -1.421875 35.59375 -1.421875 \nQ 29.59375 -1.421875 25.265625 0.953125 \nQ 20.953125 3.328125 18.109375 8.203125 \nz\nM 48.6875 27.296875 \nQ 48.6875 37.203125 44.609375 42.84375 \nQ 40.53125 48.484375 33.40625 48.484375 \nQ 26.265625 48.484375 22.1875 42.84375 \nQ 18.109375 37.203125 18.109375 27.296875 \nQ 18.109375 17.390625 22.1875 11.75 \nQ 26.265625 6.109375 33.40625 6.109375 \nQ 40.53125 6.109375 44.609375 11.75 \nQ 48.6875 17.390625 48.6875 27.296875 \nz\n\" id=\"DejaVuSans-112\"/>\n       <path d=\"M 9.421875 54.6875 \nL 18.40625 54.6875 \nL 18.40625 0 \nL 9.421875 0 \nz\nM 9.421875 75.984375 \nL 18.40625 75.984375 \nL 18.40625 64.59375 \nL 9.421875 64.59375 \nz\n\" id=\"DejaVuSans-105\"/>\n       <path d=\"M 44.28125 53.078125 \nL 44.28125 44.578125 \nQ 40.484375 46.53125 36.375 47.5 \nQ 32.28125 48.484375 27.875 48.484375 \nQ 21.1875 48.484375 17.84375 46.4375 \nQ 14.5 44.390625 14.5 40.28125 \nQ 14.5 37.15625 16.890625 35.375 \nQ 19.28125 33.59375 26.515625 31.984375 \nL 29.59375 31.296875 \nQ 39.15625 29.25 43.1875 25.515625 \nQ 47.21875 21.78125 47.21875 15.09375 \nQ 47.21875 7.46875 41.1875 3.015625 \nQ 35.15625 -1.421875 24.609375 -1.421875 \nQ 20.21875 -1.421875 15.453125 -0.5625 \nQ 10.6875 0.296875 5.421875 2 \nL 5.421875 11.28125 \nQ 10.40625 8.6875 15.234375 7.390625 \nQ 20.0625 6.109375 24.8125 6.109375 \nQ 31.15625 6.109375 34.5625 8.28125 \nQ 37.984375 10.453125 37.984375 14.40625 \nQ 37.984375 18.0625 35.515625 20.015625 \nQ 33.0625 21.96875 24.703125 23.78125 \nL 21.578125 24.515625 \nQ 13.234375 26.265625 9.515625 29.90625 \nQ 5.8125 33.546875 5.8125 39.890625 \nQ 5.8125 47.609375 11.28125 51.796875 \nQ 16.75 56 26.8125 56 \nQ 31.78125 56 36.171875 55.265625 \nQ 40.578125 54.546875 44.28125 53.078125 \nz\n\" id=\"DejaVuSans-115\"/>\n       <path d=\"M 30.609375 48.390625 \nQ 23.390625 48.390625 19.1875 42.75 \nQ 14.984375 37.109375 14.984375 27.296875 \nQ 14.984375 17.484375 19.15625 11.84375 \nQ 23.34375 6.203125 30.609375 6.203125 \nQ 37.796875 6.203125 41.984375 11.859375 \nQ 46.1875 17.53125 46.1875 27.296875 \nQ 46.1875 37.015625 41.984375 42.703125 \nQ 37.796875 48.390625 30.609375 48.390625 \nz\nM 30.609375 56 \nQ 42.328125 56 49.015625 48.375 \nQ 55.71875 40.765625 55.71875 27.296875 \nQ 55.71875 13.875 49.015625 6.21875 \nQ 42.328125 -1.421875 30.609375 -1.421875 \nQ 18.84375 -1.421875 12.171875 6.21875 \nQ 5.515625 13.875 5.515625 27.296875 \nQ 5.515625 40.765625 12.171875 48.375 \nQ 18.84375 56 30.609375 56 \nz\n\" id=\"DejaVuSans-111\"/>\n       <path d=\"M 45.40625 46.390625 \nL 45.40625 75.984375 \nL 54.390625 75.984375 \nL 54.390625 0 \nL 45.40625 0 \nL 45.40625 8.203125 \nQ 42.578125 3.328125 38.25 0.953125 \nQ 33.9375 -1.421875 27.875 -1.421875 \nQ 17.96875 -1.421875 11.734375 6.484375 \nQ 5.515625 14.40625 5.515625 27.296875 \nQ 5.515625 40.1875 11.734375 48.09375 \nQ 17.96875 56 27.875 56 \nQ 33.9375 56 38.25 53.625 \nQ 42.578125 51.265625 45.40625 46.390625 \nz\nM 14.796875 27.296875 \nQ 14.796875 17.390625 18.875 11.75 \nQ 22.953125 6.109375 30.078125 6.109375 \nQ 37.203125 6.109375 41.296875 11.75 \nQ 45.40625 17.390625 45.40625 27.296875 \nQ 45.40625 37.203125 41.296875 42.84375 \nQ 37.203125 48.484375 30.078125 48.484375 \nQ 22.953125 48.484375 18.875 42.84375 \nQ 14.796875 37.203125 14.796875 27.296875 \nz\n\" id=\"DejaVuSans-100\"/>\n       <path d=\"M 56.203125 29.59375 \nL 56.203125 25.203125 \nL 14.890625 25.203125 \nQ 15.484375 15.921875 20.484375 11.0625 \nQ 25.484375 6.203125 34.421875 6.203125 \nQ 39.59375 6.203125 44.453125 7.46875 \nQ 49.3125 8.734375 54.109375 11.28125 \nL 54.109375 2.78125 \nQ 49.265625 0.734375 44.1875 -0.34375 \nQ 39.109375 -1.421875 33.890625 -1.421875 \nQ 20.796875 -1.421875 13.15625 6.1875 \nQ 5.515625 13.8125 5.515625 26.8125 \nQ 5.515625 40.234375 12.765625 48.109375 \nQ 20.015625 56 32.328125 56 \nQ 43.359375 56 49.78125 48.890625 \nQ 56.203125 41.796875 56.203125 29.59375 \nz\nM 47.21875 32.234375 \nQ 47.125 39.59375 43.09375 43.984375 \nQ 39.0625 48.390625 32.421875 48.390625 \nQ 24.90625 48.390625 20.390625 44.140625 \nQ 15.875 39.890625 15.1875 32.171875 \nz\n\" id=\"DejaVuSans-101\"/>\n       <path id=\"DejaVuSans-32\"/>\n      </defs>\n      <use xlink:href=\"#DejaVuSans-69\"/>\n      <use x=\"63.183594\" xlink:href=\"#DejaVuSans-112\"/>\n      <use x=\"126.660156\" xlink:href=\"#DejaVuSans-105\"/>\n      <use x=\"154.443359\" xlink:href=\"#DejaVuSans-115\"/>\n      <use x=\"206.542969\" xlink:href=\"#DejaVuSans-111\"/>\n      <use x=\"267.724609\" xlink:href=\"#DejaVuSans-100\"/>\n      <use x=\"331.201172\" xlink:href=\"#DejaVuSans-101\"/>\n      <use x=\"392.724609\" xlink:href=\"#DejaVuSans-32\"/>\n     </g>\n    </g>\n   </g>\n   <g id=\"matplotlib.axis_2\">\n    <g id=\"ytick_1\">\n     <g id=\"line2d_6\">\n      <defs>\n       <path d=\"M 0 0 \nL -3.5 0 \n\" id=\"m71b34c215b\" style=\"stroke:#000000;stroke-width:0.8;\"/>\n      </defs>\n      <g>\n       <use style=\"stroke:#000000;stroke-width:0.8;\" x=\"62.774375\" xlink:href=\"#m71b34c215b\" y=\"172.982421\"/>\n      </g>\n     </g>\n     <g id=\"text_7\">\n      <!-- −600 -->\n      <g transform=\"translate(22.81375 177.541484)scale(0.12 -0.12)\">\n       <defs>\n        <path d=\"M 10.59375 35.5 \nL 73.1875 35.5 \nL 73.1875 27.203125 \nL 10.59375 27.203125 \nz\n\" id=\"DejaVuSans-8722\"/>\n        <path d=\"M 33.015625 40.375 \nQ 26.375 40.375 22.484375 35.828125 \nQ 18.609375 31.296875 18.609375 23.390625 \nQ 18.609375 15.53125 22.484375 10.953125 \nQ 26.375 6.390625 33.015625 6.390625 \nQ 39.65625 6.390625 43.53125 10.953125 \nQ 47.40625 15.53125 47.40625 23.390625 \nQ 47.40625 31.296875 43.53125 35.828125 \nQ 39.65625 40.375 33.015625 40.375 \nz\nM 52.59375 71.296875 \nL 52.59375 62.3125 \nQ 48.875 64.0625 45.09375 64.984375 \nQ 41.3125 65.921875 37.59375 65.921875 \nQ 27.828125 65.921875 22.671875 59.328125 \nQ 17.53125 52.734375 16.796875 39.40625 \nQ 19.671875 43.65625 24.015625 45.921875 \nQ 28.375 48.1875 33.59375 48.1875 \nQ 44.578125 48.1875 50.953125 41.515625 \nQ 57.328125 34.859375 57.328125 23.390625 \nQ 57.328125 12.15625 50.6875 5.359375 \nQ 44.046875 -1.421875 33.015625 -1.421875 \nQ 20.359375 -1.421875 13.671875 8.265625 \nQ 6.984375 17.96875 6.984375 36.375 \nQ 6.984375 53.65625 15.1875 63.9375 \nQ 23.390625 74.21875 37.203125 74.21875 \nQ 40.921875 74.21875 44.703125 73.484375 \nQ 48.484375 72.75 52.59375 71.296875 \nz\n\" id=\"DejaVuSans-54\"/>\n       </defs>\n       <use xlink:href=\"#DejaVuSans-8722\"/>\n       <use x=\"83.789062\" xlink:href=\"#DejaVuSans-54\"/>\n       <use x=\"147.412109\" xlink:href=\"#DejaVuSans-48\"/>\n       <use x=\"211.035156\" xlink:href=\"#DejaVuSans-48\"/>\n      </g>\n     </g>\n    </g>\n    <g id=\"ytick_2\">\n     <g id=\"line2d_7\">\n      <g>\n       <use style=\"stroke:#000000;stroke-width:0.8;\" x=\"62.774375\" xlink:href=\"#m71b34c215b\" y=\"126.433952\"/>\n      </g>\n     </g>\n     <g id=\"text_8\">\n      <!-- −400 -->\n      <g transform=\"translate(22.81375 130.993015)scale(0.12 -0.12)\">\n       <defs>\n        <path d=\"M 37.796875 64.3125 \nL 12.890625 25.390625 \nL 37.796875 25.390625 \nz\nM 35.203125 72.90625 \nL 47.609375 72.90625 \nL 47.609375 25.390625 \nL 58.015625 25.390625 \nL 58.015625 17.1875 \nL 47.609375 17.1875 \nL 47.609375 0 \nL 37.796875 0 \nL 37.796875 17.1875 \nL 4.890625 17.1875 \nL 4.890625 26.703125 \nz\n\" id=\"DejaVuSans-52\"/>\n       </defs>\n       <use xlink:href=\"#DejaVuSans-8722\"/>\n       <use x=\"83.789062\" xlink:href=\"#DejaVuSans-52\"/>\n       <use x=\"147.412109\" xlink:href=\"#DejaVuSans-48\"/>\n       <use x=\"211.035156\" xlink:href=\"#DejaVuSans-48\"/>\n      </g>\n     </g>\n    </g>\n    <g id=\"ytick_3\">\n     <g id=\"line2d_8\">\n      <g>\n       <use style=\"stroke:#000000;stroke-width:0.8;\" x=\"62.774375\" xlink:href=\"#m71b34c215b\" y=\"79.885484\"/>\n      </g>\n     </g>\n     <g id=\"text_9\">\n      <!-- −200 -->\n      <g transform=\"translate(22.81375 84.444546)scale(0.12 -0.12)\">\n       <use xlink:href=\"#DejaVuSans-8722\"/>\n       <use x=\"83.789062\" xlink:href=\"#DejaVuSans-50\"/>\n       <use x=\"147.412109\" xlink:href=\"#DejaVuSans-48\"/>\n       <use x=\"211.035156\" xlink:href=\"#DejaVuSans-48\"/>\n      </g>\n     </g>\n    </g>\n    <g id=\"ytick_4\">\n     <g id=\"line2d_9\">\n      <g>\n       <use style=\"stroke:#000000;stroke-width:0.8;\" x=\"62.774375\" xlink:href=\"#m71b34c215b\" y=\"33.337015\"/>\n      </g>\n     </g>\n     <g id=\"text_10\">\n      <!-- 0 -->\n      <g transform=\"translate(48.139375 37.896077)scale(0.12 -0.12)\">\n       <use xlink:href=\"#DejaVuSans-48\"/>\n      </g>\n     </g>\n    </g>\n    <g id=\"text_11\">\n     <!-- Episode Reward -->\n     <g transform=\"translate(16.318125 153.954844)rotate(-90)scale(0.12 -0.12)\">\n      <defs>\n       <path d=\"M 44.390625 34.1875 \nQ 47.5625 33.109375 50.5625 29.59375 \nQ 53.5625 26.078125 56.59375 19.921875 \nL 66.609375 0 \nL 56 0 \nL 46.6875 18.703125 \nQ 43.0625 26.03125 39.671875 28.421875 \nQ 36.28125 30.8125 30.421875 30.8125 \nL 19.671875 30.8125 \nL 19.671875 0 \nL 9.8125 0 \nL 9.8125 72.90625 \nL 32.078125 72.90625 \nQ 44.578125 72.90625 50.734375 67.671875 \nQ 56.890625 62.453125 56.890625 51.90625 \nQ 56.890625 45.015625 53.6875 40.46875 \nQ 50.484375 35.9375 44.390625 34.1875 \nz\nM 19.671875 64.796875 \nL 19.671875 38.921875 \nL 32.078125 38.921875 \nQ 39.203125 38.921875 42.84375 42.21875 \nQ 46.484375 45.515625 46.484375 51.90625 \nQ 46.484375 58.296875 42.84375 61.546875 \nQ 39.203125 64.796875 32.078125 64.796875 \nz\n\" id=\"DejaVuSans-82\"/>\n       <path d=\"M 4.203125 54.6875 \nL 13.1875 54.6875 \nL 24.421875 12.015625 \nL 35.59375 54.6875 \nL 46.1875 54.6875 \nL 57.421875 12.015625 \nL 68.609375 54.6875 \nL 77.59375 54.6875 \nL 63.28125 0 \nL 52.6875 0 \nL 40.921875 44.828125 \nL 29.109375 0 \nL 18.5 0 \nz\n\" id=\"DejaVuSans-119\"/>\n       <path d=\"M 34.28125 27.484375 \nQ 23.390625 27.484375 19.1875 25 \nQ 14.984375 22.515625 14.984375 16.5 \nQ 14.984375 11.71875 18.140625 8.90625 \nQ 21.296875 6.109375 26.703125 6.109375 \nQ 34.1875 6.109375 38.703125 11.40625 \nQ 43.21875 16.703125 43.21875 25.484375 \nL 43.21875 27.484375 \nz\nM 52.203125 31.203125 \nL 52.203125 0 \nL 43.21875 0 \nL 43.21875 8.296875 \nQ 40.140625 3.328125 35.546875 0.953125 \nQ 30.953125 -1.421875 24.3125 -1.421875 \nQ 15.921875 -1.421875 10.953125 3.296875 \nQ 6 8.015625 6 15.921875 \nQ 6 25.140625 12.171875 29.828125 \nQ 18.359375 34.515625 30.609375 34.515625 \nL 43.21875 34.515625 \nL 43.21875 35.40625 \nQ 43.21875 41.609375 39.140625 45 \nQ 35.0625 48.390625 27.6875 48.390625 \nQ 23 48.390625 18.546875 47.265625 \nQ 14.109375 46.140625 10.015625 43.890625 \nL 10.015625 52.203125 \nQ 14.9375 54.109375 19.578125 55.046875 \nQ 24.21875 56 28.609375 56 \nQ 40.484375 56 46.34375 49.84375 \nQ 52.203125 43.703125 52.203125 31.203125 \nz\n\" id=\"DejaVuSans-97\"/>\n       <path d=\"M 41.109375 46.296875 \nQ 39.59375 47.171875 37.8125 47.578125 \nQ 36.03125 48 33.890625 48 \nQ 26.265625 48 22.1875 43.046875 \nQ 18.109375 38.09375 18.109375 28.8125 \nL 18.109375 0 \nL 9.078125 0 \nL 9.078125 54.6875 \nL 18.109375 54.6875 \nL 18.109375 46.1875 \nQ 20.953125 51.171875 25.484375 53.578125 \nQ 30.03125 56 36.53125 56 \nQ 37.453125 56 38.578125 55.875 \nQ 39.703125 55.765625 41.0625 55.515625 \nz\n\" id=\"DejaVuSans-114\"/>\n      </defs>\n      <use xlink:href=\"#DejaVuSans-69\"/>\n      <use x=\"63.183594\" xlink:href=\"#DejaVuSans-112\"/>\n      <use x=\"126.660156\" xlink:href=\"#DejaVuSans-105\"/>\n      <use x=\"154.443359\" xlink:href=\"#DejaVuSans-115\"/>\n      <use x=\"206.542969\" xlink:href=\"#DejaVuSans-111\"/>\n      <use x=\"267.724609\" xlink:href=\"#DejaVuSans-100\"/>\n      <use x=\"331.201172\" xlink:href=\"#DejaVuSans-101\"/>\n      <use x=\"392.724609\" xlink:href=\"#DejaVuSans-32\"/>\n      <use x=\"424.511719\" xlink:href=\"#DejaVuSans-82\"/>\n      <use x=\"489.494141\" xlink:href=\"#DejaVuSans-101\"/>\n      <use x=\"551.017578\" xlink:href=\"#DejaVuSans-119\"/>\n      <use x=\"632.804688\" xlink:href=\"#DejaVuSans-97\"/>\n      <use x=\"694.083984\" xlink:href=\"#DejaVuSans-114\"/>\n      <use x=\"733.447266\" xlink:href=\"#DejaVuSans-100\"/>\n     </g>\n    </g>\n   </g>\n   <g id=\"line2d_10\">\n    <path clip-path=\"url(#p6d40c171d8)\" d=\"M 72.91983 146.759341 \nL 73.427128 180.264929 \nL 73.670631 99.475407 \nL 74.208367 69.267778 \nL 74.248951 69.728608 \nL 74.259097 70.121942 \nL 74.309826 68.201818 \nL 74.482308 61.086885 \nL 74.5026 61.263769 \nL 74.553329 60.777337 \nL 74.82727 54.4514 \nL 74.837416 54.586391 \nL 74.898292 55.556926 \nL 74.92873 56.029393 \nL 74.959168 55.226432 \nL 75.040336 53.082875 \nL 75.080919 53.145716 \nL 75.385298 49.840774 \nL 75.425882 50.203853 \nL 75.436028 50.399356 \nL 75.476612 49.750005 \nL 75.517196 50.040933 \nL 75.730261 48.77016 \nL 75.791137 49.035486 \nL 75.770845 48.737576 \nL 75.841867 48.891186 \nL 76.156391 45.902774 \nL 76.166537 45.991216 \nL 76.207121 46.272834 \nL 76.247705 45.842261 \nL 76.257851 45.902774 \nL 76.267997 45.888809 \nL 76.318727 44.380639 \nL 76.399894 44.694841 \nL 76.531792 43.82904 \nL 76.56223 43.922137 \nL 76.683981 44.559851 \nL 76.724565 44.329436 \nL 76.785441 43.805765 \nL 76.795587 43.642846 \nL 76.876755 44.064109 \nL 76.93763 43.773182 \nL 76.978214 44.057127 \nL 76.98836 44.071092 \nL 77.008652 43.929119 \nL 77.028944 43.97334 \nL 77.079674 43.640518 \nL 77.120258 44.087384 \nL 77.201425 44.66924 \nL 77.242009 44.348055 \nL 77.323177 44.694841 \nL 77.353615 44.392276 \nL 77.424637 44.164189 \nL 77.373907 44.455117 \nL 77.455074 44.36202 \nL 77.46522 44.413223 \nL 77.495658 44.182808 \nL 77.536242 44.245649 \nL 77.546388 44.224702 \nL 77.637702 43.577678 \nL 77.66814 43.694049 \nL 77.678286 43.59397 \nL 77.718869 44.008251 \nL 77.749307 43.936101 \nL 77.759453 43.994287 \nL 77.810183 43.74758 \nL 77.901497 43.319334 \nL 77.921789 43.540439 \nL 77.931935 43.528802 \nL 77.99281 44.215392 \nL 78.063832 44.11764 \nL 78.134854 43.896535 \nL 78.175438 43.221582 \nL 78.256605 43.586988 \nL 78.266751 43.589315 \nL 78.368211 43.875588 \nL 78.327627 43.519492 \nL 78.378357 43.833695 \nL 78.459525 43.505528 \nL 78.439233 43.849987 \nL 78.489963 43.712669 \nL 78.581276 43.975667 \nL 78.540692 43.500873 \nL 78.62186 43.873261 \nL 78.733466 43.519492 \nL 78.652298 43.987305 \nL 78.814633 43.659138 \nL 78.824779 43.712669 \nL 78.845071 43.44036 \nL 78.895801 43.51251 \nL 78.905947 43.505528 \nL 78.916093 43.610262 \nL 78.926239 43.631209 \nL 78.936385 43.507855 \nL 78.946531 43.556731 \nL 79.007407 42.669983 \nL 79.068282 43.282095 \nL 79.078428 43.242529 \nL 79.129158 43.477599 \nL 79.20018 43.733615 \nL 79.240764 43.505528 \nL 79.281348 43.52182 \nL 79.362515 42.853849 \nL 79.403099 42.921345 \nL 79.433537 43.265803 \nL 79.504559 42.919017 \nL 79.595872 42.495426 \nL 79.555289 43.026079 \nL 79.666894 42.586196 \nL 79.72777 42.348798 \nL 79.687186 42.651363 \nL 79.768354 42.544302 \nL 79.7785 42.651363 \nL 79.849521 42.309232 \nL 79.971273 42.162605 \nL 79.920543 42.427931 \nL 79.981419 42.197516 \nL 80.001711 42.29294 \nL 80.052441 42.400002 \nL 80.042295 42.109074 \nL 80.093025 42.248719 \nL 80.245214 41.492307 \nL 80.275652 41.466705 \nL 80.336528 42.169587 \nL 80.407549 42.802646 \nL 80.468425 42.493099 \nL 80.620615 43.272786 \nL 80.73222 43.147105 \nL 80.793096 42.958583 \nL 80.823534 43.2146 \nL 80.985869 43.840677 \nL 81.006161 43.698704 \nL 81.107621 42.972548 \nL 81.148205 43.447342 \nL 81.219226 43.291405 \nL 81.280102 43.740598 \nL 81.290248 43.81042 \nL 81.330832 43.400794 \nL 81.462729 43.023751 \nL 81.472875 43.037716 \nL 81.493167 43.095901 \nL 81.543897 42.951601 \nL 81.594627 42.458187 \nL 81.675795 42.509391 \nL 81.858422 43.147105 \nL 81.88886 42.953929 \nL 81.959882 42.521028 \nL 81.929444 43.040043 \nL 82.020757 42.604815 \nL 82.112071 42.770062 \nL 82.122217 42.723514 \nL 82.284552 41.6785 \nL 82.568639 40.808044 \nL 82.578785 40.891831 \nL 82.588931 41.00122 \nL 82.659953 40.579957 \nL 82.670099 40.570647 \nL 82.680245 40.649779 \nL 82.690391 40.719602 \nL 82.730975 40.279719 \nL 82.741121 40.214551 \nL 82.801996 40.428674 \nL 82.822288 40.656762 \nL 82.873018 40.128436 \nL 82.89331 40.268082 \nL 82.94404 40.174985 \nL 82.913602 40.377471 \nL 82.954186 40.389108 \nL 82.974478 40.626505 \nL 83.015062 40.154038 \nL 83.055645 40.265754 \nL 83.075937 40.17033 \nL 83.146959 40.426347 \nL 83.167251 40.214551 \nL 83.217981 40.619523 \nL 83.228127 40.593921 \nL 83.390462 41.382918 \nL 83.258565 40.556682 \nL 83.400608 41.280511 \nL 83.4209 41.289821 \nL 83.542652 40.894159 \nL 83.552798 40.952344 \nL 83.654257 41.396882 \nL 83.684695 41.219998 \nL 83.725279 41.219998 \nL 83.704987 41.133883 \nL 83.735425 41.196724 \nL 83.836884 40.696328 \nL 83.867322 40.854593 \nL 83.89776 40.973291 \nL 83.928198 40.798734 \nL 83.958636 40.901141 \nL 83.968782 40.761496 \nL 84.029658 41.210688 \nL 84.060096 40.882522 \nL 84.202139 41.510926 \nL 84.334037 40.828991 \nL 84.354329 41.005875 \nL 84.37462 41.110609 \nL 84.394912 40.954672 \nL 84.405058 40.645124 \nL 84.47608 41.150175 \nL 84.496372 41.122246 \nL 84.678999 41.939172 \nL 84.689145 41.84142 \nL 84.739875 41.953136 \nL 84.841335 42.225445 \nL 84.780459 41.897278 \nL 84.871773 42.127693 \nL 84.932648 41.899606 \nL 84.973232 42.164932 \nL 84.983378 42.218463 \nL 85.013816 41.964774 \nL 85.034108 42.053216 \nL 85.166005 41.476015 \nL 85.277611 41.878659 \nL 85.216735 41.417829 \nL 85.297903 41.771597 \nL 85.308049 41.718067 \nL 85.348633 41.943827 \nL 85.389217 41.862367 \nL 85.399363 41.843748 \nL 85.419655 41.946154 \nL 85.439946 42.15795 \nL 85.48053 41.848402 \nL 85.53126 42.055543 \nL 85.592136 42.104419 \nL 85.673304 41.54351 \nL 85.68345 41.571439 \nL 85.734179 41.438776 \nL 85.825493 41.243272 \nL 85.845785 41.32706 \nL 85.866077 41.448086 \nL 85.916807 41.150175 \nL 86.018266 40.831318 \nL 86.068996 40.975619 \nL 86.10958 41.024494 \nL 86.150164 40.922088 \nL 86.221186 41.131556 \nL 86.261769 41.015185 \nL 86.393667 40.717275 \nL 86.434251 41.036132 \nL 86.495126 40.687018 \nL 86.505272 40.77546 \nL 86.63717 40.237825 \nL 86.677754 40.372816 \nL 86.789359 40.803389 \nL 86.698046 40.319285 \nL 86.840089 40.780115 \nL 86.860381 40.745204 \nL 86.880673 40.854593 \nL 86.961841 41.348006 \nL 87.053154 41.23629 \nL 87.195198 41.047769 \nL 87.21549 41.112937 \nL 87.225636 41.126901 \nL 87.235782 40.970964 \nL 87.245928 40.991911 \nL 87.256074 40.952344 \nL 87.316949 41.147848 \nL 87.337241 41.168795 \nL 87.357533 41.033804 \nL 87.377825 41.064061 \nL 87.387971 41.024494 \nL 87.438701 41.259564 \nL 87.469139 41.140866 \nL 87.499577 41.222325 \nL 87.550307 41.115264 \nL 87.59089 41.01984 \nL 87.611182 41.30844 \nL 87.621328 41.315422 \nL 87.631474 41.219998 \nL 87.64162 41.231635 \nL 87.672058 41.003548 \nL 87.763372 41.108282 \nL 87.773518 41.085007 \nL 87.79381 41.222325 \nL 87.814102 41.203706 \nL 87.824247 41.436448 \nL 87.915561 40.991911 \nL 87.925707 41.085007 \nL 88.006875 40.810372 \nL 88.027167 40.880194 \nL 88.047459 40.710292 \nL 88.16921 40.493842 \nL 88.209794 40.79408 \nL 88.27067 40.461258 \nL 88.483735 39.821217 \nL 88.493881 39.842163 \nL 88.605487 40.081888 \nL 88.534465 39.835181 \nL 88.615633 40.063269 \nL 88.635924 39.88173 \nL 88.686654 40.493842 \nL 88.74753 40.589266 \nL 88.706946 40.447293 \nL 88.767822 40.54039 \nL 88.808406 40.207569 \nL 88.899719 40.307648 \nL 89.031617 40.728912 \nL 89.133077 41.47136 \nL 89.193952 41.243272 \nL 89.204098 41.192069 \nL 89.254828 41.422484 \nL 89.264974 41.422484 \nL 89.356288 41.506271 \nL 89.37658 41.617987 \nL 89.407018 41.441103 \nL 89.427309 41.482997 \nL 89.457747 41.32706 \nL 89.498331 41.557474 \nL 89.538915 41.434121 \nL 89.549061 41.54351 \nL 89.609937 41.16414 \nL 89.782418 40.391435 \nL 89.792564 40.412382 \nL 89.80271 40.524098 \nL 89.873732 40.286701 \nL 89.894024 40.31463 \nL 90.167965 39.507014 \nL 90.249132 39.779323 \nL 90.289716 39.642005 \nL 90.350592 39.79096 \nL 90.391176 39.614076 \nL 90.401322 39.665279 \nL 90.685409 40.135419 \nL 90.705701 39.911986 \nL 90.715847 39.884057 \nL 90.776722 40.028357 \nL 90.786868 39.939915 \nL 90.85789 40.293684 \nL 90.817306 39.928278 \nL 90.90862 40.058614 \nL 90.989788 40.291356 \nL 90.95935 40.012065 \nL 91.030371 40.154038 \nL 91.060809 40.282046 \nL 91.141977 40.060941 \nL 91.202853 39.946897 \nL 91.314458 40.642797 \nL 91.426064 40.451948 \nL 91.43621 40.531081 \nL 91.588399 40.302993 \nL 91.608691 40.344887 \nL 91.659421 40.484532 \nL 91.700005 40.240153 \nL 91.710151 40.233171 \nL 91.720297 40.326267 \nL 91.730443 40.326267 \nL 91.781173 40.412382 \nL 91.801465 40.300666 \nL 91.902924 39.749066 \nL 91.943508 39.856128 \nL 91.994238 39.644332 \nL 92.034822 39.914314 \nL 92.044968 39.93526 \nL 92.055114 39.879402 \nL 92.06526 39.886384 \nL 92.156573 39.497705 \nL 92.187011 39.562873 \nL 92.217449 39.721137 \nL 92.258033 39.192812 \nL 92.288471 39.274272 \nL 92.420368 38.655177 \nL 92.471098 38.738965 \nL 92.450806 38.599319 \nL 92.521828 38.615611 \nL 92.562412 38.480621 \nL 92.602996 38.757584 \nL 92.613141 38.71569 \nL 92.623287 38.745947 \nL 92.653725 38.578372 \nL 92.663871 38.622594 \nL 92.694309 38.49924 \nL 92.745039 38.799478 \nL 92.755185 38.759911 \nL 92.887082 38.687761 \nL 92.897228 38.704053 \nL 92.91752 38.808787 \nL 92.958104 38.564408 \nL 92.988542 38.603974 \nL 93.090002 38.240896 \nL 93.029126 38.636558 \nL 93.100148 38.315374 \nL 93.130586 38.641213 \nL 93.211753 38.420108 \nL 93.252337 38.552771 \nL 93.292921 38.347958 \nL 93.303067 38.252533 \nL 93.374089 38.587682 \nL 93.394381 38.5807 \nL 93.64803 39.460466 \nL 93.739343 39.157901 \nL 93.668322 39.48374 \nL 93.769781 39.325475 \nL 93.921971 39.960862 \nL 93.932117 39.958535 \nL 94.07416 40.31463 \nL 94.104598 40.258772 \nL 94.145182 39.846818 \nL 94.236495 39.891039 \nL 94.408977 40.275064 \nL 94.256787 39.865438 \nL 94.439415 40.114472 \nL 94.642334 39.693208 \nL 94.753939 40.158693 \nL 94.764085 40.023702 \nL 94.926421 39.406935 \nL 95.038026 39.560545 \nL 94.977151 39.362714 \nL 95.048172 39.532616 \nL 95.088756 39.418572 \nL 95.352551 40.628833 \nL 95.423573 40.195932 \nL 95.464157 40.363506 \nL 95.514887 40.55901 \nL 95.565616 40.293684 \nL 95.585908 40.475223 \nL 95.697514 40.021375 \nL 95.717806 40.142401 \nL 95.869995 40.579957 \nL 95.890287 40.435656 \nL 96.001893 40.2611 \nL 95.941017 40.510134 \nL 96.022185 40.32394 \nL 96.113498 40.598576 \nL 96.143936 40.46824 \nL 96.306272 39.264962 \nL 96.417877 39.520979 \nL 96.468607 39.392971 \nL 96.61065 38.918176 \nL 96.71211 39.034547 \nL 96.742548 39.085751 \nL 96.772986 38.866973 \nL 96.783132 38.904212 \nL 96.935321 38.74362 \nL 96.996197 38.997309 \nL 97.036781 38.880938 \nL 97.077365 38.517859 \nL 97.158532 38.583027 \nL 97.168678 38.543461 \nL 97.209262 38.801805 \nL 97.34116 39.134627 \nL 97.229554 38.792495 \nL 97.371598 39.029893 \nL 97.412181 38.855336 \nL 97.442619 39.227724 \nL 97.554225 39.453484 \nL 97.574517 39.40228 \nL 97.625247 39.534943 \nL 97.66583 39.409263 \nL 97.696268 39.278927 \nL 97.726706 39.511669 \nL 97.76729 39.395298 \nL 97.858604 39.441847 \nL 97.807874 39.271945 \nL 97.86875 39.360387 \nL 97.949917 39.539598 \nL 97.889042 39.344095 \nL 97.960063 39.327803 \nL 97.990501 39.40228 \nL 98.041231 39.316166 \nL 98.183275 39.877075 \nL 98.325318 39.516324 \nL 98.335464 39.597784 \nL 98.39634 39.851473 \nL 98.44707 39.78165 \nL 98.568821 39.150919 \nL 98.578967 39.237033 \nL 98.731156 39.695536 \nL 98.832616 39.486068 \nL 98.852908 39.539598 \nL 98.984806 39.902676 \nL 98.8732 39.488395 \nL 99.015243 39.776996 \nL 99.177579 39.523306 \nL 99.258746 39.437192 \nL 99.329768 39.786305 \nL 99.461666 39.323148 \nL 99.481958 39.560545 \nL 99.563125 39.721137 \nL 99.522541 39.525634 \nL 99.593563 39.62804 \nL 99.755899 39.218414 \nL 99.766045 39.225396 \nL 99.816774 39.299874 \nL 99.897942 38.911194 \nL 99.958818 39.034547 \nL 99.918234 38.848354 \nL 99.97911 38.864646 \nL 99.999402 38.759911 \nL 100.02984 38.971707 \nL 100.080569 38.892575 \nL 100.090715 38.88792 \nL 100.192175 39.116007 \nL 100.131299 38.81577 \nL 100.202321 39.069459 \nL 100.212467 39.02291 \nL 100.263197 39.269617 \nL 100.273343 39.432537 \nL 100.35451 39.18583 \nL 100.364656 39.290564 \nL 100.415386 39.164883 \nL 100.45597 39.372024 \nL 100.537138 39.588474 \nL 100.496554 39.341767 \nL 100.567576 39.537271 \nL 100.648743 39.206777 \nL 100.679181 39.4209 \nL 100.790787 39.621058 \nL 100.719765 39.365042 \nL 100.821225 39.588474 \nL 100.831371 39.523306 \nL 100.871954 39.86311 \nL 100.93283 40.377471 \nL 101.003852 40.09818 \nL 101.044436 39.907331 \nL 101.125603 40.077233 \nL 101.135749 40.093525 \nL 101.166187 39.937588 \nL 101.531442 38.671469 \nL 101.56188 38.818097 \nL 101.643048 38.836716 \nL 101.734361 39.004291 \nL 101.754653 38.925159 \nL 101.977864 38.366577 \nL 101.98801 38.576045 \nL 102.099616 38.792495 \nL 102.1402 38.583027 \nL 102.170638 38.480621 \nL 102.221367 38.606302 \nL 102.343119 38.997309 \nL 102.363411 38.96007 \nL 102.373557 38.925159 \nL 102.403995 39.143936 \nL 102.414141 39.146264 \nL 102.424287 39.220741 \nL 102.46487 38.936796 \nL 102.495308 38.983344 \nL 102.586622 38.841371 \nL 102.546038 39.074114 \nL 102.606914 38.96938 \nL 102.637352 38.885592 \nL 102.738811 38.503895 \nL 102.799687 38.634231 \nL 102.819979 38.748274 \nL 102.880855 38.457346 \nL 102.891001 38.541134 \nL 103.04319 37.891783 \nL 103.063482 37.96626 \nL 103.185234 38.313046 \nL 103.114212 37.942986 \nL 103.19538 38.271153 \nL 103.225818 38.306064 \nL 103.246109 38.208312 \nL 103.256255 38.261843 \nL 103.296839 38.070994 \nL 103.367861 38.229259 \nL 103.469321 38.515532 \nL 103.489613 38.457346 \nL 103.499759 38.478293 \nL 103.550488 38.35494 \nL 103.560634 38.42709 \nL 103.57078 38.368904 \nL 103.631656 38.620266 \nL 103.804137 39.043857 \nL 103.814283 38.946105 \nL 103.834575 38.773876 \nL 103.895451 39.12299 \nL 103.915743 39.090406 \nL 103.956327 39.341767 \nL 104.057786 39.462793 \nL 103.976619 39.25798 \nL 104.067932 39.353404 \nL 104.138954 39.497705 \nL 104.169392 39.395298 \nL 104.220122 39.225396 \nL 104.280998 39.325475 \nL 104.392603 39.136954 \nL 104.402749 39.181175 \nL 104.483917 39.150919 \nL 104.514355 39.33944 \nL 104.717274 38.946105 \nL 104.757858 38.994981 \nL 104.808588 39.237033 \nL 104.818734 38.987999 \nL 104.869463 39.09506 \nL 104.960777 38.73431 \nL 105.011507 38.501567 \nL 105.082529 38.585355 \nL 105.092675 38.636558 \nL 105.123112 38.296754 \nL 105.15355 38.415453 \nL 105.25501 38.303736 \nL 105.265156 38.438727 \nL 105.35647 38.205985 \nL 105.518805 37.66835 \nL 105.579681 37.52405 \nL 105.610119 37.698606 \nL 105.620265 37.666022 \nL 105.742016 38.010481 \nL 105.7826 37.887128 \nL 105.823184 37.470519 \nL 105.914497 37.510085 \nL 105.955081 37.610164 \nL 106.026103 38.161764 \nL 106.097125 38.008154 \nL 106.107271 37.949968 \nL 106.137709 38.359595 \nL 106.20873 38.480621 \nL 106.229022 38.27348 \nL 106.239168 38.315374 \nL 106.269606 38.285117 \nL 106.279752 38.196675 \nL 106.350774 38.517859 \nL 106.36092 38.49924 \nL 106.371066 38.608629 \nL 106.431942 38.583027 \nL 106.513109 38.890247 \nL 106.543547 38.95076 \nL 106.584131 38.883265 \nL 106.594277 39.020583 \nL 106.655153 38.694744 \nL 106.675445 38.697071 \nL 106.847926 38.776203 \nL 106.705882 38.622594 \nL 106.858072 38.718018 \nL 106.868218 38.692416 \nL 106.908802 38.825079 \nL 106.929094 39.057822 \nL 107.030553 39.015928 \nL 107.060991 39.050839 \nL 107.172597 38.727328 \nL 107.31464 39.188157 \nL 107.345078 39.097388 \nL 107.527705 38.212967 \nL 107.558143 38.26417 \nL 107.690041 38.480621 \nL 107.761063 38.482948 \nL 107.872668 38.722673 \nL 108.095879 37.859199 \nL 108.106025 37.949968 \nL 108.156755 37.996517 \nL 108.177047 37.880145 \nL 108.400258 37.35182 \nL 108.450988 37.396041 \nL 108.481426 37.570598 \nL 108.562594 37.512413 \nL 108.623469 37.342511 \nL 108.653907 37.533359 \nL 108.684345 37.456554 \nL 108.785805 37.307599 \nL 108.806097 37.454227 \nL 108.84668 37.801013 \nL 108.927848 37.733518 \nL 108.99887 37.582235 \nL 109.029308 37.752137 \nL 109.059746 38.054702 \nL 109.151059 37.931349 \nL 109.171351 37.798686 \nL 109.232227 38.012809 \nL 109.252519 37.980225 \nL 109.272811 38.012809 \nL 109.364124 37.873163 \nL 109.496022 38.406143 \nL 109.506168 38.34563 \nL 109.648211 38.126852 \nL 109.658357 38.226932 \nL 109.719233 37.838252 \nL 109.861277 37.50543 \nL 109.972882 37.912729 \nL 109.90186 37.475174 \nL 109.983028 37.90342 \nL 110.074342 37.610164 \nL 110.10478 37.717226 \nL 110.175801 37.691624 \nL 110.236677 37.938331 \nL 110.307699 37.728863 \nL 110.348283 37.845234 \nL 110.439596 38.043065 \nL 110.388867 37.805668 \nL 110.48018 38.022118 \nL 110.500472 37.917384 \nL 110.58164 38.059357 \nL 110.591786 37.998844 \nL 110.63237 37.970915 \nL 110.774413 38.536479 \nL 110.794705 38.408471 \nL 110.845435 38.64354 \nL 110.875873 38.711036 \nL 110.936749 38.555098 \nL 110.967186 38.340975 \nL 110.977332 38.271153 \nL 111.017916 38.601647 \nL 111.048354 38.496913 \nL 111.068646 38.622594 \nL 111.149814 38.443382 \nL 111.15996 38.492258 \nL 111.291857 38.36425 \nL 111.180252 38.617939 \nL 111.312149 38.429417 \nL 111.342587 38.475966 \nL 111.352733 38.557426 \nL 111.413609 38.303736 \nL 111.433901 38.382869 \nL 111.454193 38.196675 \nL 111.504922 38.408471 \nL 111.515068 38.496913 \nL 111.545506 38.33632 \nL 111.606382 38.399161 \nL 111.748426 38.124525 \nL 111.646966 38.522514 \nL 111.758571 38.178056 \nL 111.870177 37.638093 \nL 111.981783 37.854544 \nL 111.991929 37.924366 \nL 112.052804 37.652058 \nL 112.06295 37.652058 \nL 112.194848 37.372767 \nL 112.225286 37.398369 \nL 112.276016 37.51474 \nL 112.326745 37.405351 \nL 112.367329 37.191228 \nL 112.428205 37.482156 \nL 112.438351 37.386732 \nL 112.448497 37.475174 \nL 112.519519 37.179591 \nL 112.580394 37.265706 \nL 112.651416 37.484483 \nL 112.692 37.35182 \nL 112.732584 37.42397 \nL 112.783314 37.272688 \nL 112.79346 37.312254 \nL 113.006525 36.846769 \nL 112.823897 37.405351 \nL 113.047109 36.984087 \nL 113.128276 37.344838 \nL 113.179006 37.242431 \nL 113.280466 36.911937 \nL 113.32105 36.984087 \nL 113.351487 37.286652 \nL 113.392071 37.703261 \nL 113.452947 37.307599 \nL 113.463093 37.228467 \nL 113.483385 37.44259 \nL 113.544261 37.337856 \nL 113.554407 37.440262 \nL 113.605137 37.205193 \nL 113.64572 37.244759 \nL 113.737034 37.19821 \nL 113.706596 37.365785 \nL 113.74718 37.233122 \nL 113.899369 37.661368 \nL 114.021121 37.949968 \nL 113.950099 37.593872 \nL 114.051559 37.7405 \nL 114.142873 37.591545 \nL 114.112435 37.83127 \nL 114.163164 37.691624 \nL 114.295062 38.077976 \nL 114.315354 37.915057 \nL 114.508127 37.277343 \nL 114.335646 37.924366 \nL 114.528419 37.398369 \nL 114.558857 37.293635 \nL 114.589295 37.20752 \nL 114.660317 37.335528 \nL 114.721192 37.21683 \nL 114.741484 37.281998 \nL 114.75163 37.458882 \nL 114.80236 37.244759 \nL 114.842944 37.261051 \nL 114.934258 37.100459 \nL 114.873382 37.268033 \nL 114.944404 37.233122 \nL 114.995133 37.184246 \nL 115.056009 37.29829 \nL 115.167615 37.012016 \nL 115.086447 37.309927 \nL 115.198053 37.137697 \nL 115.27922 37.323891 \nL 115.309658 37.167954 \nL 115.603891 37.389059 \nL 115.644475 37.312254 \nL 115.705351 37.193556 \nL 115.715497 37.363457 \nL 115.745934 37.228467 \nL 115.847394 37.403024 \nL 115.85754 37.309927 \nL 115.877832 37.249414 \nL 115.918416 37.517067 \nL 115.938708 37.617147 \nL 116.009729 37.528704 \nL 116.060459 37.268033 \nL 116.111189 37.563616 \nL 116.141627 37.535687 \nL 116.172065 37.782394 \nL 116.182211 37.852216 \nL 116.243087 37.563616 \nL 116.314108 37.372767 \nL 116.3344 37.556634 \nL 116.344546 37.721881 \nL 116.38513 37.482156 \nL 116.43586 37.614819 \nL 116.466298 37.386732 \nL 116.527174 37.649731 \nL 116.557611 37.482156 \nL 116.669217 37.670677 \nL 116.699655 37.621801 \nL 116.750385 37.554306 \nL 116.851844 37.989534 \nL 116.872136 37.929021 \nL 116.892428 37.987207 \nL 116.922866 37.773084 \nL 116.973596 37.384404 \nL 117.044618 37.591545 \nL 117.095347 37.661368 \nL 117.115639 37.414661 \nL 117.125785 37.458882 \nL 117.156223 37.551979 \nL 117.775127 36.946849 \nL 117.836003 36.51162 \nL 117.886732 36.702469 \nL 117.896878 36.902628 \nL 117.998338 36.886336 \nL 118.059214 36.646611 \nL 118.12009 36.730398 \nL 118.130236 36.783929 \nL 118.191111 36.537222 \nL 118.201257 36.609372 \nL 118.241841 36.465072 \nL 118.302717 36.59308 \nL 118.394031 36.704797 \nL 118.373739 36.567479 \nL 118.424468 36.690832 \nL 118.769431 37.284325 \nL 118.911475 37.060892 \nL 118.820161 37.416988 \nL 118.952058 37.142352 \nL 119.083956 37.784721 \nL 119.134686 37.661368 \nL 119.144832 37.572926 \nL 119.195562 37.82196 \nL 119.225999 37.817305 \nL 119.266583 37.940658 \nL 119.317313 37.752137 \nL 119.327459 37.770757 \nL 119.70286 37.119078 \nL 119.357897 37.80334 \nL 119.733297 37.302944 \nL 119.763735 37.316909 \nL 119.773881 37.272688 \nL 119.834757 36.99107 \nL 119.885487 37.156317 \nL 119.915925 37.214502 \nL 119.956509 37.037618 \nL 120.189866 36.711779 \nL 120.210158 36.781602 \nL 120.220304 36.786256 \nL 120.23045 36.730398 \nL 120.281179 36.588425 \nL 120.321763 36.762982 \nL 120.342055 36.648938 \nL 120.362347 36.744363 \nL 120.433369 36.627992 \nL 120.443515 36.627992 \nL 120.484099 36.597735 \nL 120.494245 36.700142 \nL 120.615996 37.037618 \nL 120.626142 36.977105 \nL 120.636288 36.99107 \nL 120.676872 36.89099 \nL 120.687018 36.870044 \nL 120.70731 36.958486 \nL 120.798623 37.191228 \nL 120.737748 36.914265 \nL 120.829061 37.156317 \nL 120.849353 37.221485 \nL 120.889937 37.049255 \nL 120.910229 37.137697 \nL 120.920375 37.079512 \nL 120.981251 37.247086 \nL 121.001543 37.165626 \nL 121.011689 37.275015 \nL 121.072564 37.095804 \nL 121.113148 37.212175 \nL 121.245046 36.895645 \nL 121.356651 37.167954 \nL 121.28563 36.816513 \nL 121.407381 37.081839 \nL 121.518987 36.842115 \nL 121.549425 36.916592 \nL 121.559571 36.932884 \nL 121.600154 36.870044 \nL 121.66103 36.68385 \nL 121.620446 36.886336 \nL 121.71176 36.825823 \nL 121.76249 36.998052 \nL 121.732052 36.711779 \nL 121.803074 36.872371 \nL 121.863949 36.707124 \nL 121.833512 36.877026 \nL 121.924825 36.718761 \nL 122.036431 36.807203 \nL 121.945117 36.653593 \nL 122.056723 36.797894 \nL 122.066869 36.751345 \nL 122.13789 36.9003 \nL 122.310372 37.265706 \nL 122.330664 37.184246 \nL 122.411831 36.967795 \nL 122.442269 37.109768 \nL 122.584313 37.400696 \nL 122.604605 37.309927 \nL 122.706064 37.086494 \nL 122.726356 37.121405 \nL 122.746648 37.36113 \nL 122.807524 36.930557 \nL 122.827816 37.051583 \nL 122.858254 36.993397 \nL 122.888692 37.13537 \nL 122.969859 37.372767 \nL 123.040881 37.244759 \nL 123.172779 37.172609 \nL 123.081465 37.305272 \nL 123.182925 37.179591 \nL 123.19307 37.19821 \nL 123.223508 37.06322 \nL 123.355406 36.832805 \nL 123.456865 37.156317 \nL 123.477157 36.960813 \nL 123.568471 37.077184 \nL 123.578617 37.133043 \nL 123.609055 36.83746 \nL 123.659785 37.058565 \nL 123.751098 36.832805 \nL 123.781536 36.893318 \nL 123.862704 37.070202 \nL 123.893142 36.970123 \nL 123.984456 36.707124 \nL 124.035185 36.797894 \nL 124.065623 36.74669 \nL 124.187375 36.425506 \nL 124.207667 36.474382 \nL 124.34971 36.697814 \nL 124.370002 36.637301 \nL 124.410586 36.430161 \nL 124.491754 36.474382 \nL 124.512046 36.434815 \nL 124.522191 36.381285 \nL 124.593213 36.216038 \nL 124.552629 36.423178 \nL 124.623651 36.346373 \nL 124.643943 36.430161 \nL 124.714965 36.276551 \nL 124.725111 36.211383 \nL 124.765695 36.409214 \nL 124.82657 36.260259 \nL 125.039636 35.873906 \nL 125.070073 35.957694 \nL 125.201971 36.402232 \nL 125.242555 36.378957 \nL 125.283139 36.178799 \nL 125.364306 36.243967 \nL 125.394744 36.241639 \nL 125.384598 36.290515 \nL 125.415036 36.313789 \nL 125.546934 36.53955 \nL 125.445474 36.274223 \nL 125.55708 36.483691 \nL 125.597663 36.399904 \nL 125.638247 36.560496 \nL 125.648393 36.52093 \nL 125.678831 36.68385 \nL 125.749853 36.534895 \nL 125.780291 36.320772 \nL 125.851312 36.52093 \nL 125.993356 36.688505 \nL 126.013648 36.607045 \nL 126.175983 36.14156 \nL 126.196275 36.183454 \nL 126.277443 36.30448 \nL 126.307881 36.239312 \nL 126.399194 36.027516 \nL 126.419486 36.146215 \nL 126.429632 36.281206 \nL 126.5108 36.008897 \nL 126.520946 36.013552 \nL 126.541238 35.922782 \nL 126.673135 35.750553 \nL 126.693427 35.694695 \nL 126.734011 35.780809 \nL 126.794887 35.92511 \nL 126.845617 35.876234 \nL 126.865909 35.825031 \nL 126.906493 36.099666 \nL 127.109412 36.693159 \nL 127.281893 36.397577 \nL 127.292039 36.406886 \nL 127.505104 37.177264 \nL 127.555834 37.147007 \nL 127.56598 37.21683 \nL 127.576126 37.193556 \nL 127.596418 37.291307 \nL 127.657294 37.167954 \nL 127.677586 37.170281 \nL 127.758753 37.051583 \nL 127.779045 37.179591 \nL 127.799337 37.27036 \nL 127.860213 36.99107 \nL 127.870359 37.002707 \nL 128.124008 36.451107 \nL 128.154446 36.518603 \nL 128.255905 36.651266 \nL 128.266051 36.604717 \nL 128.509554 35.950711 \nL 128.600868 36.062428 \nL 128.641452 36.183454 \nL 128.692182 36.039153 \nL 128.712474 36.071737 \nL 128.753058 36.243967 \nL 128.864663 36.162507 \nL 128.895101 36.190436 \nL 128.986415 36.115958 \nL 129.016853 36.129923 \nL 129.026999 36.008897 \nL 129.067582 36.085702 \nL 129.128458 36.162507 \nL 129.189334 35.962349 \nL 129.219772 35.980968 \nL 129.229918 36.013552 \nL 129.351669 36.281206 \nL 129.432837 35.983295 \nL 129.514005 36.090357 \nL 129.605318 36.174144 \nL 129.564735 36.015879 \nL 129.615464 36.076392 \nL 129.747362 35.790119 \nL 129.798092 35.92511 \nL 129.848821 35.778482 \nL 129.919843 35.815721 \nL 129.940135 35.736588 \nL 129.960427 35.678403 \nL 129.980719 35.815721 \nL 130.031449 35.729606 \nL 130.10247 35.818048 \nL 130.061887 35.704005 \nL 130.132908 35.738916 \nL 130.25466 35.46428 \nL 130.274952 35.489882 \nL 130.406849 35.748226 \nL 130.416995 35.731934 \nL 130.437287 35.76219 \nL 130.467725 35.569014 \nL 130.609769 35.385148 \nL 130.498163 35.615562 \nL 130.640206 35.417731 \nL 130.761958 35.659783 \nL 130.802542 35.417731 \nL 130.863418 35.676075 \nL 130.975023 36.018207 \nL 131.025753 35.976313 \nL 131.167796 35.918127 \nL 131.248964 36.125268 \nL 131.279402 35.967003 \nL 131.299694 35.976313 \nL 131.319986 35.897181 \nL 131.350424 35.913473 \nL 131.370716 35.890198 \nL 131.391008 36.004242 \nL 131.451883 35.939074 \nL 131.604073 36.411541 \nL 131.695387 36.351028 \nL 131.746116 36.567479 \nL 131.817138 36.749018 \nL 131.867868 36.651266 \nL 131.979473 36.467399 \nL 131.93889 36.660576 \nL 131.989619 36.479037 \nL 132.020057 36.53955 \nL 132.060641 36.453435 \nL 132.070787 36.562824 \nL 132.131663 36.383612 \nL 132.172247 36.479037 \nL 132.182393 36.504638 \nL 132.243268 36.399904 \nL 132.273706 36.281206 \nL 132.354874 36.36732 \nL 132.395458 36.276551 \nL 132.436042 36.418524 \nL 132.456334 36.406886 \nL 132.46648 36.506966 \nL 132.507063 36.15087 \nL 132.557793 36.474382 \nL 132.618669 36.074065 \nL 132.669399 36.360338 \nL 132.983924 35.841322 \nL 133.075237 36.108976 \nL 133.105675 36.025189 \nL 133.125967 36.118286 \nL 133.298448 36.076392 \nL 133.379616 36.16018 \nL 133.339032 36.032171 \nL 133.410054 36.146215 \nL 133.562243 35.75288 \nL 133.602827 35.897181 \nL 133.673849 35.799429 \nL 133.805747 35.594616 \nL 133.815893 35.524793 \nL 133.856476 35.69004 \nL 133.907206 35.624872 \nL 133.957936 35.587633 \nL 133.927498 35.706332 \nL 133.968082 35.69004 \nL 134.039104 35.650474 \nL 134.079688 35.769172 \nL 134.160855 35.643492 \nL 134.191293 35.69935 \nL 134.272461 35.815721 \nL 134.211585 35.671421 \nL 134.302899 35.694695 \nL 134.363774 35.489882 \nL 134.455088 35.326962 \nL 134.47538 35.354891 \nL 134.658007 35.885544 \nL 134.678299 35.869252 \nL 134.708737 35.818048 \nL 134.739175 35.901836 \nL 134.779759 35.90649 \nL 134.830489 36.018207 \nL 134.860927 35.869252 \nL 134.881219 35.913473 \nL 135.043554 35.520138 \nL 135.073992 35.678403 \nL 135.145014 35.53643 \nL 135.307349 35.252484 \nL 135.327641 35.306015 \nL 135.47983 35.587633 \nL 135.63202 35.266449 \nL 135.723333 34.9313 \nL 135.753771 35.049999 \nL 135.784209 35.080255 \nL 135.905961 35.445661 \nL 135.916107 35.408422 \nL 135.936399 35.396785 \nL 135.95669 35.459625 \nL 136.05815 35.957694 \nL 136.088588 35.85296 \nL 136.098734 35.790119 \nL 136.15961 35.918127 \nL 136.169756 35.894853 \nL 136.311799 36.425506 \nL 136.463989 36.723416 \nL 136.332091 36.402232 \nL 136.53501 36.690832 \nL 136.545156 36.672213 \nL 136.58574 36.793239 \nL 136.616178 36.902628 \nL 136.697346 36.811858 \nL 136.727784 36.91892 \nL 136.73793 36.953831 \nL 136.798805 36.788584 \nL 136.849535 36.479037 \nL 136.920557 36.518603 \nL 136.940849 36.621009 \nL 137.022016 36.474382 \nL 137.032162 36.509293 \nL 137.052454 36.362665 \nL 137.11333 36.418524 \nL 137.21479 36.153197 \nL 137.245228 36.23233 \nL 137.285811 36.423178 \nL 137.326395 36.192763 \nL 137.346687 36.260259 \nL 137.59019 35.610908 \nL 137.610482 35.603925 \nL 137.732234 35.927437 \nL 137.833693 35.69004 \nL 137.853985 35.769172 \nL 137.945299 35.585306 \nL 137.975737 35.678403 \nL 137.985883 35.708659 \nL 138.036613 35.515483 \nL 138.046759 35.441006 \nL 138.077197 35.61789 \nL 138.138072 35.552722 \nL 138.158364 35.510828 \nL 138.21924 35.548067 \nL 138.229386 35.624872 \nL 138.290262 35.317652 \nL 138.3207 35.257139 \nL 138.371429 35.366528 \nL 138.401867 35.273431 \nL 138.523619 35.657456 \nL 138.564203 35.522465 \nL 138.625078 35.403767 \nL 138.6961 35.603925 \nL 138.706246 35.562032 \nL 138.777268 35.687713 \nL 139.061355 36.297497 \nL 139.142522 36.050791 \nL 139.193252 36.183454 \nL 139.203398 36.134578 \nL 139.254128 36.230002 \nL 139.284566 36.206728 \nL 139.335296 36.323099 \nL 139.304858 36.192763 \nL 139.37588 36.225347 \nL 139.467193 36.048463 \nL 139.406318 36.246294 \nL 139.487485 36.074065 \nL 139.609237 36.190436 \nL 139.670113 36.13225 \nL 139.80201 35.69935 \nL 139.812156 35.713314 \nL 139.832448 35.587633 \nL 140.025221 35.171025 \nL 140.157119 35.371183 \nL 140.268724 35.264121 \nL 140.217994 35.482899 \nL 140.27887 35.287396 \nL 140.390476 35.480572 \nL 140.43106 35.466607 \nL 140.441206 35.387475 \nL 140.502081 35.559704 \nL 140.532519 35.487554 \nL 140.593395 35.6272 \nL 140.664417 35.59927 \nL 140.796314 35.701677 \nL 140.85719 35.606253 \nL 141.009379 35.431696 \nL 141.029671 35.450315 \nL 141.100693 35.662111 \nL 141.070255 35.380493 \nL 141.141277 35.524793 \nL 141.232591 35.371183 \nL 141.28332 35.420059 \nL 141.38478 35.515483 \nL 141.425364 35.443333 \nL 141.821056 35.194299 \nL 141.841348 35.257139 \nL 142.023976 35.641164 \nL 141.86164 35.233865 \nL 142.044268 35.559704 \nL 142.115289 35.427041 \nL 142.176165 35.541085 \nL 142.186311 35.555049 \nL 142.216749 35.445661 \nL 142.318209 35.285068 \nL 142.3385 35.322307 \nL 142.409522 35.017415 \nL 142.480544 35.168697 \nL 142.500836 35.250157 \nL 142.571858 35.098874 \nL 142.59215 35.16637 \nL 142.632733 35.029052 \nL 142.703755 35.108184 \nL 142.713901 35.077928 \nL 142.744339 35.268776 \nL 142.795069 35.182662 \nL 142.876236 35.478244 \nL 142.926966 35.357218 \nL 143.038572 35.043016 \nL 143.06901 35.087237 \nL 143.079156 35.110512 \nL 143.11974 34.947592 \nL 143.129886 34.952247 \nL 143.261783 34.85915 \nL 143.150177 34.975521 \nL 143.282075 34.910353 \nL 143.302367 34.961556 \nL 143.353097 34.835876 \nL 143.363243 34.870787 \nL 143.373389 34.798637 \nL 143.434264 35.06629 \nL 143.44441 35.129131 \nL 143.515432 34.915008 \nL 143.54587 35.09422 \nL 143.809665 35.191971 \nL 143.829957 35.0756 \nL 143.911125 34.898716 \nL 143.972 34.966211 \nL 144.185066 35.487554 \nL 144.205357 35.457298 \nL 144.245941 35.557377 \nL 144.387985 35.811066 \nL 144.398131 35.748226 \nL 144.55032 35.503846 \nL 144.692364 35.399112 \nL 144.70251 35.434023 \nL 144.783677 35.503846 \nL 144.803969 35.387475 \nL 144.814115 35.345581 \nL 144.864845 35.564359 \nL 144.874991 35.531775 \nL 144.996742 35.873906 \nL 145.017034 35.797101 \nL 145.199662 35.510828 \nL 145.209808 35.552722 \nL 145.270683 35.429369 \nL 145.301121 35.499191 \nL 145.321413 35.403767 \nL 145.382289 35.538757 \nL 145.402581 35.513156 \nL 145.412727 35.662111 \nL 145.504041 35.387475 \nL 145.544624 35.292051 \nL 145.625792 35.387475 \nL 145.666376 35.478244 \nL 145.727252 35.331617 \nL 145.75769 35.375838 \nL 145.788128 35.243175 \nL 145.798273 35.231538 \nL 145.828711 35.352564 \nL 145.838857 35.359546 \nL 145.970755 34.970866 \nL 146.031631 34.773035 \nL 146.08236 34.989486 \nL 146.13309 34.891734 \nL 146.143236 35.010432 \nL 146.193966 34.966211 \nL 146.244696 34.99414 \nL 146.264988 34.9313 \nL 146.376593 34.733469 \nL 146.396885 34.742779 \nL 146.528783 35.136113 \nL 146.650534 34.903371 \nL 146.670826 34.975521 \nL 146.76214 34.884751 \nL 146.792578 34.86846 \nL 146.833162 34.9313 \nL 146.894037 34.896389 \nL 146.985351 35.145423 \nL 147.036081 35.198954 \nL 147.107103 34.968539 \nL 147.208562 35.096547 \nL 147.239 35.063963 \nL 147.391189 34.938282 \nL 147.523087 34.682266 \nL 147.533233 34.738124 \nL 147.644839 34.942937 \nL 147.675276 34.877769 \nL 147.685422 34.845185 \nL 147.736152 34.961556 \nL 147.76659 34.945264 \nL 147.776736 34.961556 \nL 147.797028 34.828893 \nL 147.837612 34.870787 \nL 147.989801 34.603133 \nL 148.050677 34.661319 \nL 148.182575 34.912681 \nL 148.223158 34.826566 \nL 148.284034 34.789327 \nL 148.253596 34.754416 \nL 148.29418 34.763725 \nL 148.314472 34.698558 \nL 148.39564 34.824238 \nL 148.578267 34.544948 \nL 148.598559 34.61477 \nL 148.628997 34.682266 \nL 148.72031 34.658991 \nL 148.92323 34.544948 \nL 148.933376 34.47047 \nL 149.014543 34.645027 \nL 149.217463 34.451851 \nL 149.2479 34.582186 \nL 149.34936 34.852168 \nL 149.389944 34.838203 \nL 149.481258 34.728814 \nL 149.511696 34.812601 \nL 149.562425 34.917335 \nL 149.592863 35.008105 \nL 149.684177 34.984831 \nL 149.795782 34.910353 \nL 149.805928 34.919663 \nL 149.998702 35.406094 \nL 150.100161 35.296705 \nL 150.150891 35.196626 \nL 150.191475 35.364201 \nL 150.232059 35.415404 \nL 150.262497 35.282741 \nL 150.394394 35.031379 \nL 150.40454 35.019742 \nL 150.414686 35.087237 \nL 150.445124 35.096547 \nL 150.485708 35.217573 \nL 150.536438 35.00345 \nL 150.698773 34.761398 \nL 150.708919 34.770708 \nL 150.840817 34.963884 \nL 150.861108 34.947592 \nL 150.993006 34.642699 \nL 151.023444 34.677611 \nL 151.165487 34.894061 \nL 151.175633 34.784672 \nL 151.226363 34.672956 \nL 151.266947 34.800964 \nL 151.40899 35.06629 \nL 151.490158 35.008105 \nL 151.530742 35.091892 \nL 151.672785 35.37351 \nL 151.682931 35.368856 \nL 151.764099 35.222228 \nL 151.794537 35.261794 \nL 151.804683 35.385148 \nL 151.855413 35.191971 \nL 151.895997 35.236192 \nL 151.916288 35.243175 \nL 151.93658 35.131458 \nL 152.058332 34.998795 \nL 152.068478 35.024397 \nL 152.078624 35.126804 \nL 152.1395 34.966211 \nL 152.159792 34.977848 \nL 152.301835 34.591496 \nL 152.322127 34.607788 \nL 152.454024 34.724159 \nL 152.474316 34.591496 \nL 152.555484 34.656664 \nL 152.596068 34.514691 \nL 152.646798 34.712522 \nL 152.717819 34.658991 \nL 152.778695 34.731142 \nL 152.951177 34.549602 \nL 152.99176 34.759071 \nL 153.062782 34.56124 \nL 153.204826 34.728814 \nL 153.14395 34.449523 \nL 153.214972 34.684593 \nL 153.245409 34.661319 \nL 153.275847 34.740451 \nL 153.367161 34.842858 \nL 153.387453 34.782345 \nL 153.407745 34.717177 \nL 153.458475 34.863805 \nL 153.468621 34.861477 \nL 153.51935 35.0756 \nL 153.57008 34.854495 \nL 153.823729 34.589169 \nL 153.864313 34.682266 \nL 153.935335 34.884751 \nL 153.975919 34.740451 \nL 154.006357 34.668301 \nL 154.016503 34.770708 \nL 154.087524 34.712522 \nL 154.158546 34.775363 \nL 154.188984 34.693903 \nL 154.219422 34.575204 \nL 154.290444 34.728814 \nL 154.422341 34.889406 \nL 154.432487 34.863805 \nL 154.523801 34.507709 \nL 154.57453 34.607788 \nL 154.584676 34.589169 \nL 154.604968 34.775363 \nL 154.615114 34.749761 \nL 154.767304 35.040689 \nL 154.77745 35.036034 \nL 154.848471 34.942937 \nL 154.939785 34.800964 \nL 154.960077 34.817256 \nL 155.081829 35.059308 \nL 155.10212 35.024397 \nL 155.244164 34.76838 \nL 155.25431 34.803292 \nL 155.365915 34.833548 \nL 155.376061 34.782345 \nL 155.436937 34.654337 \nL 155.497813 34.70554 \nL 155.538397 34.84053 \nL 155.609419 34.740451 \nL 155.7819 34.517019 \nL 155.812338 34.579859 \nL 155.923943 34.784672 \nL 155.944235 34.745106 \nL 156.025403 34.642699 \nL 156.055841 34.724159 \nL 156.096425 34.619425 \nL 156.147155 34.735796 \nL 156.25876 35.115166 \nL 156.289198 35.045344 \nL 156.339928 34.956902 \nL 156.390658 35.036034 \nL 156.421096 35.131458 \nL 156.461679 34.963884 \nL 156.481971 34.998795 \nL 156.522555 35.047671 \nL 156.613869 34.928973 \nL 156.624015 34.973194 \nL 156.684891 34.770708 \nL 156.725474 34.677611 \nL 156.806642 34.719504 \nL 157.090729 34.333152 \nL 157.131313 34.423922 \nL 157.182043 34.25402 \nL 157.242918 34.277294 \nL 157.212481 34.323842 \nL 157.253064 34.300568 \nL 157.293648 34.477452 \nL 157.384962 34.440214 \nL 157.435692 34.274967 \nL 157.486422 34.500727 \nL 157.496567 34.507709 \nL 157.516859 34.454178 \nL 157.547297 34.368063 \nL 157.618319 34.524001 \nL 157.638611 34.472798 \nL 157.699487 34.652009 \nL 157.7908 34.726487 \nL 157.811092 34.672956 \nL 157.831384 34.656664 \nL 157.851676 34.742779 \nL 157.973428 34.954574 \nL 157.983574 34.935955 \nL 157.99372 34.92199 \nL 158.034303 35.045344 \nL 158.054595 35.129131 \nL 158.125617 34.905698 \nL 158.145909 35.045344 \nL 158.196639 35.133786 \nL 158.247369 35.026724 \nL 158.308244 34.749761 \nL 158.358974 34.975521 \nL 158.460434 35.036034 \nL 158.429996 34.891734 \nL 158.47058 34.975521 \nL 158.714083 35.140768 \nL 158.734375 35.068618 \nL 158.774959 34.887079 \nL 158.84598 35.063963 \nL 158.99817 34.831221 \nL 159.008316 34.880097 \nL 159.059046 34.638045 \nL 159.079338 34.724159 \nL 159.160505 34.577532 \nL 159.190943 34.719504 \nL 159.302549 34.987158 \nL 159.322841 34.975521 \nL 159.566344 34.17256 \nL 159.617073 34.321515 \nL 159.698241 34.251692 \nL 159.830139 34.102737 \nL 159.921452 34.139976 \nL 159.941744 34.10041 \nL 160.022912 34.030587 \nL 160.043204 34.137649 \nL 160.063496 34.093427 \nL 160.10408 34.216781 \nL 160.185247 34.167905 \nL 160.205539 34.251692 \nL 160.317145 34.021277 \nL 160.327291 34.063171 \nL 160.337437 34.025932 \nL 160.378021 34.179542 \nL 160.418604 34.119029 \nL 160.438896 34.174887 \nL 160.560648 34.391338 \nL 160.702691 34.442541 \nL 160.763567 34.333152 \nL 160.794005 34.47978 \nL 160.804151 34.477452 \nL 160.895465 34.645027 \nL 160.946195 34.600806 \nL 161.00707 34.503054 \nL 161.037508 34.626407 \nL 161.047654 34.584514 \nL 161.098384 34.71485 \nL 161.15926 34.612443 \nL 161.199844 34.47978 \nL 161.321595 34.33548 \nL 161.443347 34.700885 \nL 161.63612 34.314533 \nL 161.68685 34.370391 \nL 161.696996 34.400647 \nL 161.73758 34.328497 \nL 161.788309 34.337807 \nL 161.818747 34.272639 \nL 161.930353 34.158595 \nL 161.940499 34.198162 \nL 162.041958 34.449523 \nL 162.06225 34.351771 \nL 162.11298 34.165578 \nL 162.184002 34.207471 \nL 162.336191 34.549602 \nL 162.376775 34.295913 \nL 162.457943 34.302896 \nL 162.539111 34.263329 \nL 162.498527 34.377373 \nL 162.569548 34.288931 \nL 162.620278 34.223763 \nL 162.660862 34.291258 \nL 162.671008 34.223763 \nL 162.6913 34.323842 \nL 162.762322 34.300568 \nL 162.944949 34.468143 \nL 162.965241 34.32617 \nL 163.076846 34.191179 \nL 163.097138 34.228418 \nL 163.11743 34.272639 \nL 163.137722 34.146958 \nL 163.198598 34.202816 \nL 163.239182 34.067826 \nL 163.289912 34.24471 \nL 163.442101 34.477452 \nL 163.452247 34.46116 \nL 163.573999 34.554257 \nL 163.675458 34.817256 \nL 163.716042 34.76838 \nL 163.79721 34.742779 \nL 163.817502 34.803292 \nL 163.827648 34.912681 \nL 163.868232 34.693903 \nL 163.929107 34.817256 \nL 163.969691 34.749761 \nL 163.989983 34.847513 \nL 164.111735 35.024397 \nL 164.243632 35.196626 \nL 164.263924 35.09422 \nL 164.405967 34.84984 \nL 164.466843 34.672956 \nL 164.558157 34.719504 \nL 164.568303 34.733469 \nL 164.598741 34.593824 \nL 164.619033 34.631062 \nL 164.690054 34.428576 \nL 164.781368 34.582186 \nL 164.832098 34.807946 \nL 164.892974 34.745106 \nL 164.963995 34.526328 \nL 165.014725 34.575204 \nL 165.075601 34.791655 \nL 165.136477 34.631062 \nL 165.217644 34.419267 \nL 165.298812 34.272639 \nL 165.339396 34.31686 \nL 165.390126 34.435559 \nL 165.451002 34.323842 \nL 165.593045 34.249365 \nL 165.501731 34.368063 \nL 165.603191 34.288931 \nL 165.735088 34.158595 \nL 165.836548 33.965419 \nL 165.866986 34.004985 \nL 165.877132 33.977056 \nL 165.938008 34.109719 \nL 165.948154 34.086445 \nL 165.988738 34.16325 \nL 166.009029 34.007313 \nL 166.110489 33.767588 \nL 166.151073 33.902579 \nL 166.353992 34.368063 \nL 166.38443 34.233073 \nL 166.587349 34.098082 \nL 166.739539 34.400647 \nL 166.790269 34.423922 \nL 166.81056 34.351771 \nL 166.942458 34.281949 \nL 167.104793 34.46116 \nL 167.175815 34.693903 \nL 167.216399 34.584514 \nL 167.226545 34.530983 \nL 167.277275 34.735796 \nL 167.317859 34.642699 \nL 167.429464 34.773035 \nL 167.43961 34.745106 \nL 167.470048 34.679938 \nL 167.622237 34.759071 \nL 167.733843 34.677611 \nL 167.764281 34.69623 \nL 168.048368 34.544948 \nL 168.109244 34.593824 \nL 168.149827 34.496072 \nL 168.180265 34.510036 \nL 168.190411 34.416939 \nL 168.220849 34.409957 \nL 168.312163 34.340134 \nL 168.535374 34.086445 \nL 168.657126 34.263329 \nL 168.748439 34.193507 \nL 168.768731 34.130666 \nL 168.849899 34.221436 \nL 169.002088 34.30755 \nL 169.07311 34.184197 \nL 169.133986 34.249365 \nL 169.17457 34.18187 \nL 169.184716 34.293586 \nL 169.215153 34.305223 \nL 169.347051 34.468143 \nL 169.357197 34.458833 \nL 169.377489 34.458833 \nL 169.397781 34.556585 \nL 169.428219 34.63339 \nL 169.448511 34.521673 \nL 169.509386 34.530983 \nL 169.610846 34.435559 \nL 169.620992 34.468143 \nL 169.641284 34.484435 \nL 169.671722 34.337807 \nL 169.692014 34.409957 \nL 169.752889 34.24471 \nL 169.803619 34.375046 \nL 169.905079 34.382028 \nL 169.915225 34.333152 \nL 169.955809 34.272639 \nL 169.976101 34.39832 \nL 170.016684 34.382028 \nL 170.118144 34.337807 \nL 170.036976 34.430904 \nL 170.12829 34.393665 \nL 170.148582 34.447196 \nL 170.22975 34.344789 \nL 170.473253 34.086445 \nL 170.483399 34.093427 \nL 170.625442 34.400647 \nL 170.635588 34.342462 \nL 170.75734 34.24471 \nL 170.909529 34.63339 \nL 170.797923 34.228418 \nL 170.929821 34.554257 \nL 171.102302 34.735796 \nL 171.122594 34.693903 \nL 171.213908 34.505381 \nL 171.264638 34.619425 \nL 171.28493 34.579859 \nL 171.447265 34.663646 \nL 171.457411 34.617098 \nL 171.528433 34.747433 \nL 171.538579 34.733469 \nL 171.548725 34.752088 \nL 171.579163 34.593824 \nL 171.599454 34.621753 \nL 171.6096 34.619425 \nL 171.619746 34.689248 \nL 171.640038 34.682266 \nL 171.771936 35.029052 \nL 171.81252 35.110512 \nL 171.924125 34.745106 \nL 171.964709 34.828893 \nL 171.974855 34.877769 \nL 171.995147 34.770708 \nL 172.066169 34.789327 \nL 172.116898 34.726487 \nL 172.157482 34.877769 \nL 172.279234 34.752088 \nL 172.198066 34.92199 \nL 172.28938 34.770708 \nL 172.350256 34.963884 \nL 172.400985 34.824238 \nL 173.212662 33.893269 \nL 173.303976 33.914216 \nL 173.263392 33.823446 \nL 173.324268 33.85603 \nL 173.456165 33.867667 \nL 173.364852 33.786208 \nL 173.466311 33.825774 \nL 173.527187 33.897924 \nL 173.638793 34.035242 \nL 173.648939 34.023605 \nL 173.760544 34.165578 \nL 173.790982 34.112047 \nL 174.186675 34.293586 \nL 174.227259 34.212126 \nL 174.318572 34.47978 \nL 174.896892 34.037569 \nL 174.907038 34.188852 \nL 174.957768 34.295913 \nL 175.018644 34.193507 \nL 175.049081 34.149286 \nL 175.130249 34.221436 \nL 175.262147 33.939818 \nL 175.272293 34.002658 \nL 175.302731 33.970074 \nL 175.40419 33.637253 \nL 175.424482 33.660527 \nL 175.465066 33.730349 \nL 175.536088 33.679146 \nL 175.667985 33.509244 \nL 175.799883 33.932835 \nL 175.810029 33.914216 \nL 175.93178 33.709403 \nL 175.941926 33.739659 \nL 175.972364 33.732677 \nL 176.08397 33.893269 \nL 176.195575 33.897924 \nL 176.246305 33.851375 \nL 176.276743 33.993348 \nL 176.286889 33.939818 \nL 176.439078 34.084118 \nL 176.337619 33.860685 \nL 176.479662 33.993348 \nL 176.489808 33.970074 \nL 176.520246 34.058516 \nL 176.56083 34.060844 \nL 176.652143 34.18187 \nL 176.682581 34.263329 \nL 176.733311 34.032914 \nL 176.743457 34.060844 \nL 176.753603 34.074808 \nL 176.784041 33.991021 \nL 176.794187 33.92818 \nL 176.834771 34.032914 \nL 176.895647 33.965419 \nL 177.057982 34.02826 \nL 177.118858 33.902579 \nL 177.189879 33.981711 \nL 177.271047 34.056189 \nL 177.301485 34.00964 \nL 177.352215 34.079463 \nL 177.413091 34.016623 \nL 177.66674 34.165578 \nL 177.687032 34.139976 \nL 177.768199 34.046879 \nL 177.798637 34.149286 \nL 177.808783 34.151613 \nL 177.829075 34.058516 \nL 177.839221 34.035242 \nL 177.879805 34.191179 \nL 177.889951 34.177215 \nL 178.001556 34.2354 \nL 178.021848 34.219108 \nL 178.163892 34.086445 \nL 178.305935 34.037569 \nL 178.316081 34.102737 \nL 178.397249 34.177215 \nL 178.427687 34.114374 \nL 178.792941 33.853703 \nL 179.188634 33.935163 \nL 179.208926 34.039897 \nL 179.290094 33.916543 \nL 179.330677 33.818792 \nL 179.401699 33.679146 \nL 179.432137 33.816464 \nL 179.503159 33.951455 \nL 179.553889 33.939818 \nL 179.594472 33.849048 \nL 179.665494 33.930508 \nL 179.848121 34.277294 \nL 179.990165 33.977056 \nL 180.010457 33.991021 \nL 180.223522 33.634925 \nL 180.294544 33.77457 \nL 180.416295 33.974729 \nL 180.426441 33.935163 \nL 180.538047 33.672164 \nL 180.558339 33.686128 \nL 180.68009 33.728022 \nL 180.62936 33.597686 \nL 180.690236 33.688456 \nL 180.801842 33.590704 \nL 180.811988 33.600014 \nL 180.852572 33.660527 \nL 180.893155 33.551138 \nL 180.933739 33.616306 \nL 180.943885 33.579067 \nL 181.004761 33.735004 \nL 181.014907 33.735004 \nL 181.075783 33.693111 \nL 181.096075 33.741987 \nL 181.25841 34.046879 \nL 181.298994 33.958437 \nL 181.349724 34.098082 \nL 181.400454 34.056189 \nL 181.4106 34.021277 \nL 181.542497 33.965419 \nL 181.623665 34.10041 \nL 181.654103 33.981711 \nL 181.694686 33.835083 \nL 181.786 33.85603 \nL 181.907752 33.974729 \nL 181.917898 33.9468 \nL 181.958481 33.986366 \nL 181.999065 33.895597 \nL 182.120817 33.732677 \nL 182.161401 33.758279 \nL 182.181693 33.821119 \nL 182.222276 33.700093 \nL 182.26286 33.748969 \nL 182.394758 33.560448 \nL 182.678845 33.93749 \nL 182.688991 33.916543 \nL 182.780304 34.10041 \nL 182.810742 34.02826 \nL 182.973078 33.974729 \nL 182.99337 33.960764 \nL 183.023807 34.077136 \nL 183.033953 34.060844 \nL 183.115121 34.151613 \nL 183.125267 34.18187 \nL 183.155705 34.039897 \nL 183.196289 34.08179 \nL 183.206435 34.063171 \nL 183.236873 34.17256 \nL 183.277457 34.151613 \nL 183.47023 34.221436 \nL 183.52096 34.263329 \nL 183.612273 34.044552 \nL 183.734025 33.963092 \nL 183.794901 33.790862 \nL 183.84563 33.932835 \nL 183.967382 34.02826 \nL 183.876068 33.879305 \nL 183.977528 34.002658 \nL 184.109425 33.807154 \nL 184.139863 33.842066 \nL 184.200739 33.909561 \nL 184.251469 33.818792 \nL 184.413804 33.760606 \nL 184.42395 33.781553 \nL 184.434096 33.839738 \nL 184.454388 33.728022 \nL 184.52541 33.744314 \nL 184.586286 33.818792 \nL 184.637015 33.70242 \nL 184.697891 33.758279 \nL 184.718183 33.653544 \nL 184.748621 33.730349 \nL 184.880518 33.613978 \nL 184.890664 33.634925 \nL 184.941394 33.511572 \nL 184.961686 33.546483 \nL 185.053 33.625615 \nL 185.164605 33.860685 \nL 185.174751 33.842066 \nL 185.184897 33.797845 \nL 185.235627 33.963092 \nL 185.347233 34.060844 \nL 185.357379 34.051534 \nL 185.438546 34.000331 \nL 185.519714 33.797845 \nL 185.560298 33.828101 \nL 185.570444 33.869995 \nL 185.621174 33.779225 \nL 185.671904 33.818792 \nL 185.682049 33.744314 \nL 185.763217 33.872322 \nL 185.803801 34.000331 \nL 185.874823 33.87465 \nL 185.945844 33.85603 \nL 185.895115 33.909561 \nL 185.976282 33.909561 \nL 186.027012 34.053861 \nL 186.087888 33.907234 \nL 186.189348 33.816464 \nL 186.138618 33.979384 \nL 186.209639 33.835083 \nL 186.280661 33.662854 \nL 186.361829 33.728022 \nL 186.402413 33.821119 \nL 186.463289 33.779225 \nL 186.473434 33.709403 \nL 186.564748 33.844393 \nL 186.747375 34.000331 \nL 186.869127 33.907234 \nL 186.889419 33.935163 \nL 186.960441 34.030587 \nL 186.909711 33.916543 \nL 186.990879 33.893269 \nL 187.031462 33.839738 \nL 187.072046 33.972401 \nL 187.11263 34.004985 \nL 187.153214 33.911888 \nL 187.21409 33.930508 \nL 187.183652 33.979384 \nL 187.234382 33.95611 \nL 187.274965 34.063171 \nL 187.345987 33.995676 \nL 187.417009 33.85603 \nL 187.457593 33.998003 \nL 187.660512 34.177215 \nL 187.670658 34.153941 \nL 187.772118 34.01895 \nL 187.832993 34.053861 \nL 187.873577 34.302896 \nL 187.954745 34.184197 \nL 188.005475 34.158595 \nL 188.035913 34.221436 \nL 188.147518 34.344789 \nL 188.066351 34.191179 \nL 188.177956 34.309878 \nL 188.32 34.146958 \nL 188.350437 34.188852 \nL 188.401167 34.126011 \nL 188.512773 34.011968 \nL 188.522919 34.042224 \nL 188.553357 34.114374 \nL 188.614232 34.014295 \nL 188.624378 34.035242 \nL 188.634524 34.011968 \nL 188.675108 34.132994 \nL 188.705546 34.095755 \nL 188.735984 34.065498 \nL 188.786714 34.130666 \nL 188.898319 33.869995 \nL 188.908465 33.993348 \nL 188.979487 33.970074 \nL 188.999779 34.051534 \nL 189.009925 34.072481 \nL 189.040363 33.960764 \nL 189.080947 33.986366 \nL 189.243282 33.583722 \nL 189.263574 33.658199 \nL 189.314304 33.560448 \nL 189.354888 33.604669 \nL 189.446201 33.655872 \nL 189.476639 33.597686 \nL 189.486785 33.653544 \nL 189.557807 33.48597 \nL 189.567953 33.451059 \nL 189.628829 33.553465 \nL 189.669412 33.499935 \nL 189.791164 33.609323 \nL 189.983937 33.732677 \nL 190.095543 33.597686 \nL 190.125981 33.63027 \nL 190.288316 33.977056 \nL 190.37963 33.930508 \nL 190.3289 34.021277 \nL 190.389776 33.977056 \nL 190.582549 34.281949 \nL 190.653571 34.25402 \nL 190.663717 34.344789 \nL 190.694155 34.414612 \nL 190.724593 34.249365 \nL 190.765176 34.337807 \nL 190.988388 34.135321 \nL 190.826052 34.379701 \nL 190.998533 34.160923 \nL 191.120285 34.305223 \nL 191.140577 34.270312 \nL 191.272474 34.01895 \nL 191.28262 34.046879 \nL 191.455102 34.023605 \nL 191.536269 33.795517 \nL 191.48554 34.053861 \nL 191.576853 33.92818 \nL 191.607291 34.037569 \nL 191.668167 33.949127 \nL 191.779773 33.676819 \nL 191.800064 33.714057 \nL 191.820356 33.767588 \nL 191.840648 33.63027 \nL 191.871086 33.667509 \nL 191.9624 33.544156 \nL 191.982692 33.600014 \nL 192.074005 33.72104 \nL 192.104443 33.64889 \nL 192.134881 33.613978 \nL 192.175465 33.707075 \nL 192.195757 33.676819 \nL 192.276925 33.816464 \nL 192.327654 33.718712 \nL 192.571158 33.297449 \nL 192.581304 33.327705 \nL 192.611741 33.304431 \nL 192.713201 33.474333 \nL 192.723347 33.451059 \nL 192.763931 33.551138 \nL 192.784223 33.532518 \nL 192.936412 33.814137 \nL 192.976996 33.860685 \nL 193.007434 33.735004 \nL 193.098748 33.651217 \nL 193.058164 33.746641 \nL 193.11904 33.679146 \nL 193.159623 33.746641 \nL 193.220499 33.651217 \nL 193.230645 33.681474 \nL 193.291521 33.609323 \nL 193.332105 33.716385 \nL 193.5959 33.760606 \nL 193.606046 33.679146 \nL 193.819111 33.369599 \nL 193.626338 33.693111 \nL 193.829257 33.448731 \nL 193.839403 33.502262 \nL 193.890133 33.325378 \nL 193.92057 33.343997 \nL 193.940862 33.33236 \nL 194.062614 33.444076 \nL 194.17422 33.285812 \nL 194.194511 33.327705 \nL 194.245241 33.281157 \nL 194.255387 33.246245 \nL 194.285825 33.211334 \nL 194.356847 33.26021 \nL 194.793123 33.876977 \nL 194.417723 33.209007 \nL 194.833707 33.816464 \nL 194.853999 33.662854 \nL 194.955459 33.709403 \nL 195.117794 33.814137 \nL 195.138086 33.79319 \nL 195.158378 33.741987 \nL 195.209108 33.672164 \nL 195.259837 33.804827 \nL 195.412027 33.832756 \nL 195.422173 33.811809 \nL 195.614946 33.863013 \nL 195.625092 33.93749 \nL 195.665676 33.79319 \nL 195.726552 33.879305 \nL 195.828011 33.618633 \nL 195.858449 33.723367 \nL 195.888887 33.835083 \nL 195.970055 33.762933 \nL 196.091806 33.593031 \nL 196.101952 33.620961 \nL 196.213558 33.718712 \nL 196.254142 33.835083 \nL 196.315017 33.70242 \nL 196.345455 33.646562 \nL 196.396185 33.641907 \nL 196.558521 33.434767 \nL 196.568667 33.467351 \nL 196.599104 33.502262 \nL 196.629542 33.385891 \nL 196.731002 33.34167 \nL 196.680272 33.420802 \nL 196.741148 33.357962 \nL 196.771586 33.460368 \nL 196.852753 33.357962 \nL 196.923775 33.185732 \nL 196.964359 33.346325 \nL 197.218008 33.320723 \nL 197.268738 33.222971 \nL 197.329614 33.346325 \nL 197.400635 33.348652 \nL 197.360052 33.378909 \nL 197.420927 33.406838 \nL 197.654284 33.446404 \nL 197.735452 33.506917 \nL 197.684722 33.411492 \nL 197.755744 33.448731 \nL 197.806474 33.337015 \nL 197.857204 33.458041 \nL 198.060123 33.707075 \nL 198.070269 33.644235 \nL 198.120999 33.78388 \nL 198.171729 33.704748 \nL 198.323918 33.537173 \nL 198.384794 33.625615 \nL 198.567421 33.909561 \nL 198.577567 33.904906 \nL 198.810924 33.681474 \nL 198.841362 33.723367 \nL 198.892092 33.600014 \nL 199.064573 33.320723 \nL 199.176179 33.288139 \nL 199.226909 33.257882 \nL 199.287784 33.285812 \nL 199.328368 33.355634 \nL 199.368952 33.146166 \nL 199.419682 33.255555 \nL 199.470412 33.146166 \nL 199.510995 33.104273 \nL 199.561725 33.220644 \nL 199.582017 33.129874 \nL 199.693623 33.146166 \nL 199.703769 33.113582 \nL 199.784936 33.220644 \nL 199.957418 33.264865 \nL 200.119753 33.060051 \nL 200.129899 33.046087 \nL 200.180629 33.160131 \nL 200.190775 33.134529 \nL 200.332818 33.278829 \nL 200.566175 32.9623 \nL 200.576321 32.971609 \nL 200.687927 33.03445 \nL 200.698073 33.006521 \nL 200.809679 32.855238 \nL 200.718365 33.018158 \nL 200.819825 32.941353 \nL 200.829971 33.029795 \nL 200.900992 32.897132 \nL 200.921284 32.906442 \nL 200.951722 32.892477 \nL 200.972014 32.9623 \nL 201.012598 32.964627 \nL 201.205371 33.127547 \nL 201.266247 33.090308 \nL 201.296685 33.202024 \nL 201.306831 33.222971 \nL 201.367706 33.099618 \nL 201.621356 33.202024 \nL 201.631501 33.157803 \nL 201.641647 33.136856 \nL 201.672085 33.255555 \nL 201.692377 33.255555 \nL 201.966318 33.769916 \nL 201.98661 33.728022 \nL 202.047486 33.800172 \nL 202.077924 33.772243 \nL 202.128654 33.890942 \nL 202.179383 33.751296 \nL 202.341719 33.490625 \nL 202.443178 33.697766 \nL 202.504054 33.627943 \nL 202.656244 33.758279 \nL 202.66639 33.748969 \nL 202.767849 33.579067 \nL 202.727265 33.769916 \nL 202.788141 33.623288 \nL 202.828725 33.546483 \nL 202.889601 33.378909 \nL 202.950477 33.446404 \nL 203.153396 33.388218 \nL 203.163542 33.350979 \nL 203.244709 33.446404 \nL 203.305585 33.392873 \nL 203.275147 33.383563 \nL 203.315731 33.376581 \nL 203.457775 33.209007 \nL 203.498358 33.271847 \nL 203.51865 33.320723 \nL 203.56938 33.213661 \nL 203.599818 33.234608 \nL 203.731716 33.174095 \nL 203.812883 33.090308 \nL 203.853467 33.153148 \nL 203.954927 33.087981 \nL 203.995511 33.167113 \nL 204.005657 33.18806 \nL 204.066532 33.062379 \nL 204.086824 33.032122 \nL 204.117262 33.155476 \nL 204.320181 33.334687 \nL 204.330327 33.309086 \nL 204.391203 33.267192 \nL 204.452079 33.318395 \nL 204.492663 33.2509 \nL 204.604268 33.374254 \nL 204.685436 33.218316 \nL 204.746312 33.257882 \nL 204.857917 33.411492 \nL 204.868063 33.378909 \nL 205.010107 33.262537 \nL 205.020253 33.26952 \nL 205.070983 33.353307 \nL 205.091274 33.409165 \nL 205.15215 33.271847 \nL 205.162296 33.218316 \nL 205.233318 33.304431 \nL 205.263756 33.274174 \nL 205.294194 33.185732 \nL 205.355069 33.276502 \nL 205.486967 33.420802 \nL 205.527551 33.537173 \nL 205.588427 33.42313 \nL 205.598573 33.367271 \nL 205.67974 33.502262 \nL 205.821784 33.437094 \nL 205.872514 33.362617 \nL 205.902951 33.492952 \nL 205.913097 33.541828 \nL 205.984119 33.42313 \nL 205.994265 33.469678 \nL 206.105871 33.348652 \nL 206.116017 33.353307 \nL 206.176892 33.497607 \nL 206.247914 33.469678 \nL 206.318936 33.54881 \nL 206.379812 33.40451 \nL 206.795796 33.218316 \nL 206.805942 33.167113 \nL 206.866818 33.283484 \nL 206.907402 33.209007 \nL 207.008861 33.222971 \nL 207.049445 33.339342 \nL 207.130613 33.304431 \nL 207.252364 33.16944 \nL 207.272656 33.199697 \nL 207.394408 33.297449 \nL 207.455284 33.318395 \nL 207.424846 33.281157 \nL 207.495867 33.255555 \nL 208.043749 33.176423 \nL 208.084333 33.080998 \nL 208.114771 33.195042 \nL 208.155355 33.155476 \nL 208.287252 33.229953 \nL 208.327836 33.285812 \nL 208.36842 33.18806 \nL 208.459734 33.085653 \nL 208.490172 33.122892 \nL 208.622069 33.209007 \nL 208.652507 33.176423 \nL 208.693091 33.288139 \nL 208.703237 33.302104 \nL 208.733675 33.227626 \nL 208.855426 33.132202 \nL 208.875718 33.120565 \nL 208.89601 33.17875 \nL 209.027908 33.304431 \nL 209.088783 33.34167 \nL 209.109075 33.264865 \nL 209.251119 33.11591 \nL 209.332287 33.03445 \nL 209.342432 33.001866 \nL 209.403308 33.171768 \nL 209.413454 33.136856 \nL 209.4236 33.167113 \nL 209.454038 33.108927 \nL 209.504768 33.104273 \nL 209.636665 32.978592 \nL 209.727979 33.085653 \nL 209.788855 33.157803 \nL 209.849731 33.104273 \nL 210.062796 32.964627 \nL 210.093234 33.027468 \nL 210.154109 33.134529 \nL 210.316445 33.295121 \nL 210.357029 33.255555 \nL 210.417904 33.092635 \nL 210.47878 33.197369 \nL 210.712137 33.288139 \nL 210.732429 33.195042 \nL 210.854181 33.094963 \nL 210.874473 33.148494 \nL 211.077392 33.174095 \nL 211.199144 33.006521 \nL 211.229581 33.092635 \nL 211.239727 33.113582 \nL 211.310749 33.006521 \nL 211.442647 33.083326 \nL 211.452793 33.053069 \nL 211.574544 32.957645 \nL 211.594836 33.011176 \nL 211.696296 33.120565 \nL 211.645566 32.994884 \nL 211.736879 33.101945 \nL 211.838339 33.164786 \nL 211.868777 33.2509 \nL 211.909361 33.113582 \nL 211.939799 33.150821 \nL 212.01082 33.143839 \nL 211.960091 33.192715 \nL 212.031112 33.204352 \nL 212.16301 33.281157 \nL 212.234032 33.099618 \nL 212.284761 33.132202 \nL 212.426805 33.160131 \nL 212.436951 33.111255 \nL 212.507973 33.197369 \nL 212.518119 33.195042 \nL 212.53841 33.174095 \nL 212.619578 33.222971 \nL 212.721038 32.964627 \nL 212.751476 32.994884 \nL 212.913811 33.213661 \nL 213.025417 33.197369 \nL 212.934103 33.167113 \nL 213.035563 33.150821 \nL 213.11673 33.001866 \nL 213.157314 33.080998 \nL 213.410963 33.406838 \nL 213.421109 33.353307 \nL 213.634174 33.195042 \nL 213.64432 33.227626 \nL 213.766072 33.357962 \nL 213.786364 33.290466 \nL 213.877677 33.09729 \nL 213.908115 33.197369 \nL 214.060305 33.048414 \nL 214.111035 33.190387 \nL 214.212494 33.118237 \nL 214.811106 33.092635 \nL 214.892274 33.16944 \nL 214.871982 33.074016 \nL 214.912566 33.087981 \nL 214.932857 33.02514 \nL 214.983587 33.111255 \nL 215.014025 33.113582 \nL 215.237236 33.053069 \nL 215.247382 33.071689 \nL 215.32855 33.185732 \nL 215.358988 33.120565 \nL 215.43001 32.957645 \nL 215.480739 33.050742 \nL 215.531469 33.008848 \nL 215.551761 33.074016 \nL 215.632929 33.243918 \nL 215.673513 33.146166 \nL 215.744534 33.185732 \nL 215.785118 33.1066 \nL 215.815556 33.046087 \nL 215.886578 33.143839 \nL 215.896724 33.120565 \nL 215.90687 33.111255 \nL 215.917016 33.176423 \nL 215.967746 33.262537 \nL 216.028621 33.195042 \nL 216.119935 33.215989 \nL 216.241687 33.499935 \nL 216.272124 33.455713 \nL 216.637379 33.430112 \nL 216.647525 33.376581 \nL 216.708401 33.644235 \nL 216.769277 33.611651 \nL 216.799714 33.70242 \nL 216.80986 33.672164 \nL 216.91132 33.769916 \nL 216.96205 33.732677 \nL 217.083801 33.767588 \nL 217.175115 33.762933 \nL 217.185261 33.744314 \nL 217.33745 33.448731 \nL 217.347596 33.478988 \nL 217.428764 33.42313 \nL 217.38818 33.553465 \nL 217.479494 33.455713 \nL 217.601245 33.504589 \nL 217.662121 33.625615 \nL 217.702705 33.481315 \nL 218.210003 32.79007 \nL 218.281025 32.852911 \nL 218.352047 32.899459 \nL 218.301317 32.824982 \nL 218.382484 32.857566 \nL 218.39263 32.785416 \nL 218.49409 32.836619 \nL 218.625988 32.729557 \nL 218.686863 32.662062 \nL 218.737593 32.757486 \nL 218.798469 32.855238 \nL 218.92022 33.020485 \nL 218.940512 32.983247 \nL 219.02168 32.862221 \nL 219.07241 32.927388 \nL 219.234745 33.080998 \nL 219.255037 33.036777 \nL 219.265183 33.001866 \nL 219.336205 33.1066 \nL 219.356497 33.071689 \nL 219.407227 33.120565 \nL 219.457956 33.029795 \nL 219.569562 32.87153 \nL 219.589854 32.885495 \nL 219.681168 32.911096 \nL 219.691314 32.939025 \nL 219.70146 32.971609 \nL 219.772481 32.87153 \nL 219.843503 32.811017 \nL 219.894233 32.831964 \nL 220.117444 32.797053 \nL 220.137736 32.724903 \nL 220.188466 32.838946 \nL 220.208758 32.79007 \nL 220.269633 32.878512 \nL 220.310217 32.80869 \nL 220.381239 32.715593 \nL 220.431969 32.780761 \nL 220.513136 32.936698 \nL 220.55372 32.922734 \nL 220.787077 32.766796 \nL 220.918975 32.87153 \nL 220.929121 32.850583 \nL 220.979851 32.792398 \nL 221.010289 32.927388 \nL 221.061018 33.071689 \nL 221.121894 32.9623 \nL 221.13204 32.913424 \nL 221.223354 32.994884 \nL 221.2335 32.955317 \nL 221.314667 32.899459 \nL 221.345105 32.948335 \nL 221.355251 32.985574 \nL 221.426273 32.852911 \nL 221.537879 32.738867 \nL 221.558171 32.80869 \nL 221.629192 32.862221 \nL 221.669776 32.829637 \nL 221.892987 33.053069 \nL 221.913279 32.985574 \nL 222.045177 32.72723 \nL 222.075615 32.748177 \nL 222.146636 32.885495 \nL 222.197366 32.87153 \nL 222.379993 32.757486 \nL 222.887292 32.773778 \nL 223.019189 32.741194 \nL 223.110503 32.680681 \nL 223.120649 32.601549 \nL 223.211962 32.643443 \nL 223.303276 32.743522 \nL 223.333714 32.71792 \nL 223.861304 32.548018 \nL 223.891742 32.687664 \nL 224.023639 32.9623 \nL 224.033785 32.957645 \nL 224.104807 32.894804 \nL 224.155537 32.918079 \nL 224.206267 33.001866 \nL 224.277288 32.922734 \nL 224.368602 32.841274 \nL 224.39904 32.866875 \nL 224.490354 32.973937 \nL 224.561375 32.862221 \nL 224.632397 32.834291 \nL 224.662835 32.897132 \nL 224.713565 32.971609 \nL 224.784586 32.946008 \nL 225.038235 32.51078 \nL 224.855608 32.997211 \nL 225.048381 32.548018 \nL 225.129549 32.729557 \nL 225.180279 32.643443 \nL 225.433928 32.79938 \nL 225.575971 32.850583 \nL 225.890496 32.820327 \nL 225.910788 32.797053 \nL 225.941226 32.892477 \nL 225.971664 32.887822 \nL 226.052832 32.969282 \nL 226.08327 32.864548 \nL 226.184729 32.748177 \nL 226.215167 32.794725 \nL 226.367356 32.869203 \nL 226.93553 33.192715 \nL 226.945676 33.160131 \nL 226.955822 33.129874 \nL 227.026844 33.241591 \nL 227.03699 33.236936 \nL 227.199325 33.451059 \nL 227.209471 33.402183 \nL 227.452974 33.243918 \nL 227.483412 33.327705 \nL 227.554434 33.218316 \nL 227.56458 33.236936 \nL 227.929835 32.885495 \nL 228.011002 32.904114 \nL 228.031294 32.850583 \nL 228.183484 32.680681 \nL 228.203776 32.757486 \nL 228.376257 32.708611 \nL 228.508154 32.536381 \nL 228.5183 32.559655 \nL 228.690782 32.687664 \nL 228.842971 32.538709 \nL 228.863263 32.599222 \nL 229.563334 33.027468 \nL 229.57348 32.985574 \nL 229.583626 32.932043 \nL 229.654648 33.046087 \nL 229.67494 33.011176 \nL 229.948881 33.113582 \nL 229.989465 33.267192 \nL 230.070633 33.236936 \nL 230.080779 33.2509 \nL 230.111216 33.120565 \nL 230.172092 33.139184 \nL 230.243114 33.013503 \nL 230.273552 33.087981 \nL 230.344574 32.985574 \nL 230.517055 32.955317 \nL 230.557639 33.022813 \nL 230.618514 32.957645 \nL 230.669244 32.866875 \nL 230.73012 32.959972 \nL 230.882309 33.129874 \nL 231.115667 32.813345 \nL 231.146104 32.831964 \nL 231.30844 32.887822 \nL 231.186688 32.745849 \nL 231.318586 32.862221 \nL 231.338878 32.857566 \nL 231.369316 32.964627 \nL 231.389608 33.011176 \nL 231.480921 32.987901 \nL 231.491067 33.067034 \nL 231.541797 32.883167 \nL 231.582381 32.936698 \nL 231.653403 33.078671 \nL 231.744716 33.146166 \nL 231.765008 33.101945 \nL 231.93749 33.085653 \nL 231.988219 33.013503 \nL 232.028803 33.129874 \nL 232.038949 33.120565 \nL 232.160701 33.148494 \nL 232.21143 33.220644 \nL 232.302744 33.046087 \nL 232.434642 33.013503 \nL 232.444788 33.062379 \nL 232.454934 33.118237 \nL 232.505663 32.992556 \nL 232.536101 33.004193 \nL 232.688291 32.787743 \nL 232.769458 32.89015 \nL 232.84048 32.806362 \nL 232.870918 32.894804 \nL 233.002816 32.792398 \nL 232.901356 32.908769 \nL 233.012961 32.79938 \nL 233.023107 32.811017 \nL 233.053545 32.685336 \nL 233.063691 32.666717 \nL 233.114421 32.745849 \nL 233.144859 32.748177 \nL 233.256465 32.685336 \nL 233.286902 32.750504 \nL 233.408654 32.873858 \nL 233.428946 32.836619 \nL 233.499968 32.743522 \nL 233.560843 32.806362 \nL 233.702887 32.817999 \nL 233.794201 32.534054 \nL 233.865222 32.557328 \nL 233.926098 32.468886 \nL 233.976828 32.571293 \nL 234.362374 32.911096 \nL 234.484126 32.743522 \nL 234.494272 32.780761 \nL 234.616023 32.741194 \nL 234.626169 32.762141 \nL 234.788505 32.834291 \nL 234.839235 32.918079 \nL 234.910256 32.899459 \nL 235.10303 32.801707 \nL 235.113176 32.755159 \nL 235.174051 32.829637 \nL 235.204489 32.813345 \nL 235.224781 32.817999 \nL 235.245073 32.750504 \nL 235.316095 32.543363 \nL 235.387117 32.571293 \nL 235.397263 32.56431 \nL 235.4277 32.648098 \nL 235.447992 32.65508 \nL 235.650912 32.801707 \nL 235.661058 32.787743 \nL 235.701641 32.694646 \nL 235.772663 32.797053 \nL 235.965436 33.074016 \nL 235.975582 33.062379 \nL 235.995874 32.999538 \nL 236.026312 33.120565 \nL 236.137918 33.302104 \nL 236.148064 33.267192 \nL 236.198793 33.2509 \nL 236.168356 33.311413 \nL 236.239377 33.330033 \nL 236.371275 33.248573 \nL 236.411859 33.290466 \nL 236.574194 33.099618 \nL 236.614778 33.129874 \nL 236.63507 33.060051 \nL 236.655362 33.053069 \nL 236.665508 33.018158 \nL 236.716238 33.099618 \nL 236.756821 33.076343 \nL 236.766967 33.160131 \nL 236.848135 32.983247 \nL 236.858281 32.994884 \nL 236.980033 32.859893 \nL 237.020616 32.864548 \nL 237.030762 32.794725 \nL 237.182952 32.601549 \nL 237.193098 32.629478 \nL 237.253974 32.517762 \nL 237.284411 32.566638 \nL 237.58879 32.824982 \nL 237.598936 32.811017 \nL 237.700396 32.878512 \nL 237.751126 32.934371 \nL 237.771418 32.87153 \nL 237.79171 32.783088 \nL 237.883023 32.827309 \nL 237.893169 32.878512 \nL 237.943899 32.778433 \nL 237.984483 32.776106 \nL 238.136672 32.759814 \nL 238.248278 32.999538 \nL 238.26857 32.966955 \nL 238.288862 32.904114 \nL 238.339591 33.03445 \nL 238.390321 32.966955 \nL 238.420759 32.992556 \nL 238.603386 32.706283 \nL 238.735284 32.831964 \nL 238.907765 32.622496 \nL 238.917911 32.706283 \nL 239.120831 32.820327 \nL 239.293312 32.496815 \nL 239.303458 32.529399 \nL 239.486085 32.50147 \nL 239.607837 32.589912 \nL 239.719442 32.806362 \nL 239.739734 32.715593 \nL 239.85134 32.771451 \nL 239.912216 32.862221 \nL 239.952799 32.741194 \nL 240.318054 32.731885 \nL 240.399222 32.589912 \nL 240.449952 32.685336 \nL 240.622433 32.811017 \nL 240.652871 32.731885 \nL 240.845644 32.417683 \nL 241.089147 32.382771 \nL 241.109439 32.294329 \nL 241.160169 32.403718 \nL 241.200753 32.385099 \nL 241.363088 32.527072 \nL 241.535569 32.350187 \nL 241.586299 32.424665 \nL 241.657321 32.389754 \nL 242.43856 32.66439 \nL 242.448706 32.63646 \nL 242.509582 32.617841 \nL 242.54002 32.706283 \nL 242.732793 32.676027 \nL 242.742939 32.72723 \nL 242.874836 32.89015 \nL 242.976296 32.876185 \nL 242.986442 32.892477 \nL 242.996588 32.94368 \nL 243.037172 32.731885 \nL 243.06761 32.80869 \nL 243.128485 32.734212 \nL 243.189361 32.79007 \nL 243.321259 32.88084 \nL 243.331405 32.843601 \nL 243.371989 32.776106 \nL 243.44301 32.822654 \nL 243.524178 32.883167 \nL 243.564762 32.815672 \nL 243.574908 32.762141 \nL 243.676367 32.792398 \nL 243.747389 32.669044 \nL 243.828557 32.557328 \nL 243.879287 32.585257 \nL 243.909724 32.652752 \nL 243.990892 32.578275 \nL 244.061914 32.559655 \nL 244.011184 32.529399 \nL 244.07206 32.538709 \nL 244.12279 32.513107 \nL 244.17352 32.534054 \nL 244.234395 32.699301 \nL 244.305417 32.634133 \nL 244.356147 32.685336 \nL 244.427169 32.64577 \nL 244.528628 32.620168 \nL 244.65038 32.575947 \nL 244.853299 32.440957 \nL 244.944613 32.329241 \nL 244.995342 32.371134 \nL 245.188116 32.468886 \nL 245.218554 32.399063 \nL 245.370743 32.180285 \nL 245.411327 32.222179 \nL 245.482349 32.226834 \nL 245.431619 32.20356 \nL 245.512786 32.18494 \nL 245.664976 32.282692 \nL 245.857749 32.517762 \nL 245.867895 32.506125 \nL 246.121544 32.606204 \nL 246.13169 32.580602 \nL 246.172274 32.51078 \nL 246.212858 32.643443 \nL 246.253442 32.568965 \nL 246.588258 33.080998 \nL 246.71001 32.997211 \nL 246.720156 33.032122 \nL 246.781032 32.887822 \nL 246.841907 32.9623 \nL 246.892637 32.89015 \nL 247.217308 32.638788 \nL 247.227454 32.613186 \nL 247.268038 32.715593 \nL 247.298476 32.706283 \nL 247.389789 32.755159 \nL 247.410081 32.671372 \nL 247.541979 32.606204 \nL 247.602855 32.666717 \nL 247.66373 32.613186 \nL 247.826066 32.650425 \nL 248.100007 32.485178 \nL 248.24205 32.676027 \nL 248.262342 32.631806 \nL 248.424678 32.489833 \nL 248.434823 32.494488 \nL 248.759494 32.317603 \nL 248.76964 32.329241 \nL 249.145041 32.33855 \nL 249.155187 32.273382 \nL 249.216063 32.352515 \nL 249.256646 32.317603 \nL 249.307376 32.259418 \nL 249.388544 32.350187 \nL 249.510295 32.35717 \nL 249.520441 32.317603 \nL 249.530587 32.312949 \nL 249.540733 32.371134 \nL 249.571171 32.415355 \nL 249.662485 32.48285 \nL 249.682777 32.475868 \nL 249.82482 32.366479 \nL 249.936426 32.503797 \nL 249.97701 32.48285 \nL 250.108907 32.494488 \nL 250.129199 32.457249 \nL 250.281389 32.359497 \nL 250.321972 32.454921 \nL 250.332118 32.480523 \nL 250.382848 32.361824 \nL 250.40314 32.375789 \nL 250.413286 32.352515 \nL 250.464016 32.480523 \nL 250.474162 32.48285 \nL 250.545184 32.49216 \nL 250.524892 32.443284 \nL 250.585767 32.468886 \nL 250.626351 32.34786 \nL 250.697373 32.433975 \nL 250.961168 32.271055 \nL 251.113357 32.471213 \nL 251.275693 32.49216 \nL 251.295985 32.531726 \nL 251.367006 32.4107 \nL 251.874305 32.666717 \nL 251.884451 32.634133 \nL 251.98591 32.615514 \nL 252.006202 32.629478 \nL 252.097516 32.608531 \nL 252.219267 32.552673 \nL 252.249705 32.624823 \nL 252.300435 32.51078 \nL 252.320727 32.524744 \nL 252.574376 32.215197 \nL 252.584522 32.226834 \nL 252.817879 32.447939 \nL 252.838171 32.389754 \nL 252.959922 32.392081 \nL 253.081674 32.494488 \nL 253.112112 32.454921 \nL 253.264301 32.364152 \nL 253.386053 32.524744 \nL 253.396199 32.520089 \nL 253.51795 32.650425 \nL 253.588972 32.785416 \nL 253.639702 32.708611 \nL 253.791891 32.522417 \nL 254.562984 32.417683 \nL 254.705028 32.389754 \nL 254.897801 32.555001 \nL 254.928239 32.49216 \nL 255.009407 32.58293 \nL 255.121012 32.676027 \nL 255.131158 32.666717 \nL 255.232618 32.587585 \nL 255.384807 32.461904 \nL 255.699332 32.375789 \nL 255.881959 32.426992 \nL 256.003711 32.35717 \nL 256.084879 32.406046 \nL 256.115317 32.396736 \nL 256.1559 32.298984 \nL 256.237068 32.364152 \nL 256.368966 32.503797 \nL 256.511009 32.555001 \nL 257.109621 32.336223 \nL 257.119767 32.298984 \nL 257.170497 32.496815 \nL 257.180643 32.471213 \nL 257.637211 32.657407 \nL 257.657503 32.575947 \nL 257.667649 32.557328 \nL 257.708233 32.657407 \nL 257.728525 32.648098 \nL 257.931444 32.731885 \nL 257.94159 32.692319 \nL 258.002465 32.783088 \nL 258.032903 32.741194 \nL 258.144509 32.843601 \nL 258.174947 32.750504 \nL 258.327136 32.548018 \nL 258.347428 32.503797 \nL 258.51991 32.608531 \nL 258.560493 32.464231 \nL 258.641661 32.559655 \nL 258.682245 32.615514 \nL 258.722829 32.520089 \nL 258.743121 32.56431 \nL 258.925748 32.378116 \nL 258.94604 32.408373 \nL 259.017062 32.329241 \nL 259.037354 32.35717 \nL 259.301149 32.282692 \nL 259.392462 32.413028 \nL 259.412754 32.296657 \nL 259.483776 32.308294 \nL 259.433046 32.285019 \nL 259.52436 32.278037 \nL 259.727279 32.18494 \nL 259.828739 32.368807 \nL 259.859177 32.354842 \nL 259.991074 32.433975 \nL 260.092534 32.480523 \nL 260.10268 32.443284 \nL 260.133117 32.382771 \nL 260.204139 32.487505 \nL 260.295453 32.494488 \nL 260.305599 32.536381 \nL 260.498372 32.389754 \nL 260.518664 32.433975 \nL 260.57954 32.506125 \nL 260.640416 32.438629 \nL 261.00567 32.173303 \nL 261.025962 32.224506 \nL 261.127422 32.157011 \nL 261.279611 32.068569 \nL 261.350633 32.010384 \nL 261.421655 32.101153 \nL 261.553552 32.10348 \nL 261.969537 32.324586 \nL 261.989828 32.278037 \nL 262.101434 32.212869 \nL 262.131872 32.280365 \nL 262.324645 32.431647 \nL 262.456543 32.447939 \nL 262.466689 32.480523 \nL 262.507273 32.415355 \nL 262.547856 32.42001 \nL 262.629024 32.382771 \nL 262.659462 32.408373 \nL 262.710192 32.464231 \nL 262.750776 32.35717 \nL 262.781214 32.326913 \nL 262.842089 32.415355 \nL 262.984133 32.394408 \nL 262.994279 32.443284 \nL 263.11603 32.571293 \nL 263.146468 32.534054 \nL 263.501577 32.478196 \nL 263.562453 32.589912 \nL 263.613182 32.531726 \nL 263.988583 32.454921 \nL 264.008875 32.494488 \nL 264.059605 32.406046 \nL 264.090043 32.417683 \nL 264.252378 32.445612 \nL 264.37413 32.454921 \nL 264.526319 32.336223 \nL 264.658216 32.317603 \nL 264.668362 32.285019 \nL 264.779968 32.245453 \nL 264.790114 32.271055 \nL 265.490185 32.212869 \nL 265.500331 32.250108 \nL 265.561207 32.124427 \nL 265.591645 32.18494 \nL 265.693105 32.138392 \nL 265.733688 32.177958 \nL 265.9569 32.373462 \nL 266.169965 32.422337 \nL 266.230841 32.450267 \nL 266.271424 32.424665 \nL 266.423614 32.308294 \nL 266.616387 32.415355 \nL 267.306313 32.34786 \nL 267.326604 32.403718 \nL 267.377334 32.329241 \nL 267.417918 32.35717 \nL 267.580253 32.33855 \nL 267.651275 32.373462 \nL 267.702005 32.326913 \nL 267.894778 32.273382 \nL 268.026676 32.208215 \nL 268.107843 32.217524 \nL 268.138281 32.201232 \nL 268.432514 32.175631 \nL 268.503536 32.168648 \nL 268.49339 32.126755 \nL 268.523828 32.126755 \nL 268.574558 32.059259 \nL 268.635434 32.133737 \nL 268.696309 32.084861 \nL 268.736893 32.182613 \nL 268.878937 32.217524 \nL 268.889083 32.19425 \nL 269.02098 32.354842 \nL 269.142732 32.503797 \nL 269.163024 32.485178 \nL 269.376089 32.433975 \nL 269.507986 32.534054 \nL 269.528278 32.522417 \nL 269.558716 32.615514 \nL 269.65003 32.545691 \nL 269.680468 32.662062 \nL 269.710905 32.724903 \nL 269.822511 32.641115 \nL 269.883387 32.708611 \nL 269.923971 32.603876 \nL 269.934117 32.613186 \nL 269.954409 32.50147 \nL 269.984846 32.51078 \nL 270.167474 32.375789 \nL 270.187766 32.389754 \nL 270.613896 32.285019 \nL 270.624042 32.312949 \nL 270.70521 32.217524 \nL 270.979151 32.294329 \nL 271.100902 32.445612 \nL 271.111048 32.406046 \nL 271.222654 32.50147 \nL 271.344405 32.571293 \nL 271.831411 32.417683 \nL 271.922725 32.513107 \nL 271.943017 32.454921 \nL 272.13579 32.417683 \nL 272.23725 32.50147 \nL 272.247396 32.436302 \nL 272.379293 32.447939 \nL 272.440169 32.406046 \nL 272.490899 32.454921 \nL 272.643088 32.433975 \nL 272.653234 32.457249 \nL 272.744548 32.550346 \nL 272.76484 32.506125 \nL 272.886592 32.345532 \nL 272.896737 32.359497 \nL 273.059073 32.394408 \nL 273.130095 32.4107 \nL 273.079365 32.364152 \nL 273.150387 32.35717 \nL 273.251846 32.187268 \nL 273.29243 32.210542 \nL 273.383744 32.19425 \nL 273.39389 32.231489 \nL 273.434473 32.19425 \nL 273.576517 32.280365 \nL 273.880896 32.261745 \nL 274.022939 32.319931 \nL 274.114253 32.329241 \nL 274.225858 32.366479 \nL 274.236004 32.33855 \nL 274.307026 32.431647 \nL 274.367902 32.443284 \nL 274.39834 32.406046 \nL 274.428778 32.359497 \nL 274.509945 32.4107 \nL 275.179579 32.18494 \nL 275.189725 32.212869 \nL 275.260747 32.252436 \nL 275.291184 32.19425 \nL 275.423082 32.261745 \nL 275.82892 32.783088 \nL 275.82892 32.783088 \n\" style=\"fill:none;stroke:#ffa500;stroke-linecap:square;stroke-width:2;\"/>\n   </g>\n   <g id=\"patch_3\">\n    <path d=\"M 62.774375 187.677656 \nL 62.774375 24.597656 \n\" style=\"fill:none;stroke:#000000;stroke-linecap:square;stroke-linejoin:miter;stroke-width:0.8;\"/>\n   </g>\n   <g id=\"patch_4\">\n    <path d=\"M 62.774375 187.677656 \nL 285.974375 187.677656 \n\" style=\"fill:none;stroke:#000000;stroke-linecap:square;stroke-linejoin:miter;stroke-width:0.8;\"/>\n   </g>\n   <g id=\"text_12\">\n    <!-- Tabular Q-learning -->\n    <g transform=\"translate(105.360312 18.597656)scale(0.15 -0.15)\">\n     <defs>\n      <path d=\"M -0.296875 72.90625 \nL 61.375 72.90625 \nL 61.375 64.59375 \nL 35.5 64.59375 \nL 35.5 0 \nL 25.59375 0 \nL 25.59375 64.59375 \nL -0.296875 64.59375 \nz\n\" id=\"DejaVuSans-84\"/>\n      <path d=\"M 48.6875 27.296875 \nQ 48.6875 37.203125 44.609375 42.84375 \nQ 40.53125 48.484375 33.40625 48.484375 \nQ 26.265625 48.484375 22.1875 42.84375 \nQ 18.109375 37.203125 18.109375 27.296875 \nQ 18.109375 17.390625 22.1875 11.75 \nQ 26.265625 6.109375 33.40625 6.109375 \nQ 40.53125 6.109375 44.609375 11.75 \nQ 48.6875 17.390625 48.6875 27.296875 \nz\nM 18.109375 46.390625 \nQ 20.953125 51.265625 25.265625 53.625 \nQ 29.59375 56 35.59375 56 \nQ 45.5625 56 51.78125 48.09375 \nQ 58.015625 40.1875 58.015625 27.296875 \nQ 58.015625 14.40625 51.78125 6.484375 \nQ 45.5625 -1.421875 35.59375 -1.421875 \nQ 29.59375 -1.421875 25.265625 0.953125 \nQ 20.953125 3.328125 18.109375 8.203125 \nL 18.109375 0 \nL 9.078125 0 \nL 9.078125 75.984375 \nL 18.109375 75.984375 \nz\n\" id=\"DejaVuSans-98\"/>\n      <path d=\"M 8.5 21.578125 \nL 8.5 54.6875 \nL 17.484375 54.6875 \nL 17.484375 21.921875 \nQ 17.484375 14.15625 20.5 10.265625 \nQ 23.53125 6.390625 29.59375 6.390625 \nQ 36.859375 6.390625 41.078125 11.03125 \nQ 45.3125 15.671875 45.3125 23.6875 \nL 45.3125 54.6875 \nL 54.296875 54.6875 \nL 54.296875 0 \nL 45.3125 0 \nL 45.3125 8.40625 \nQ 42.046875 3.421875 37.71875 1 \nQ 33.40625 -1.421875 27.6875 -1.421875 \nQ 18.265625 -1.421875 13.375 4.4375 \nQ 8.5 10.296875 8.5 21.578125 \nz\nM 31.109375 56 \nz\n\" id=\"DejaVuSans-117\"/>\n      <path d=\"M 9.421875 75.984375 \nL 18.40625 75.984375 \nL 18.40625 0 \nL 9.421875 0 \nz\n\" id=\"DejaVuSans-108\"/>\n      <path d=\"M 39.40625 66.21875 \nQ 28.65625 66.21875 22.328125 58.203125 \nQ 16.015625 50.203125 16.015625 36.375 \nQ 16.015625 22.609375 22.328125 14.59375 \nQ 28.65625 6.59375 39.40625 6.59375 \nQ 50.140625 6.59375 56.421875 14.59375 \nQ 62.703125 22.609375 62.703125 36.375 \nQ 62.703125 50.203125 56.421875 58.203125 \nQ 50.140625 66.21875 39.40625 66.21875 \nz\nM 53.21875 1.3125 \nL 66.21875 -12.890625 \nL 54.296875 -12.890625 \nL 43.5 -1.21875 \nQ 41.890625 -1.3125 41.03125 -1.359375 \nQ 40.1875 -1.421875 39.40625 -1.421875 \nQ 24.03125 -1.421875 14.8125 8.859375 \nQ 5.609375 19.140625 5.609375 36.375 \nQ 5.609375 53.65625 14.8125 63.9375 \nQ 24.03125 74.21875 39.40625 74.21875 \nQ 54.734375 74.21875 63.90625 63.9375 \nQ 73.09375 53.65625 73.09375 36.375 \nQ 73.09375 23.6875 67.984375 14.640625 \nQ 62.890625 5.609375 53.21875 1.3125 \nz\n\" id=\"DejaVuSans-81\"/>\n      <path d=\"M 4.890625 31.390625 \nL 31.203125 31.390625 \nL 31.203125 23.390625 \nL 4.890625 23.390625 \nz\n\" id=\"DejaVuSans-45\"/>\n      <path d=\"M 54.890625 33.015625 \nL 54.890625 0 \nL 45.90625 0 \nL 45.90625 32.71875 \nQ 45.90625 40.484375 42.875 44.328125 \nQ 39.84375 48.1875 33.796875 48.1875 \nQ 26.515625 48.1875 22.3125 43.546875 \nQ 18.109375 38.921875 18.109375 30.90625 \nL 18.109375 0 \nL 9.078125 0 \nL 9.078125 54.6875 \nL 18.109375 54.6875 \nL 18.109375 46.1875 \nQ 21.34375 51.125 25.703125 53.5625 \nQ 30.078125 56 35.796875 56 \nQ 45.21875 56 50.046875 50.171875 \nQ 54.890625 44.34375 54.890625 33.015625 \nz\n\" id=\"DejaVuSans-110\"/>\n      <path d=\"M 45.40625 27.984375 \nQ 45.40625 37.75 41.375 43.109375 \nQ 37.359375 48.484375 30.078125 48.484375 \nQ 22.859375 48.484375 18.828125 43.109375 \nQ 14.796875 37.75 14.796875 27.984375 \nQ 14.796875 18.265625 18.828125 12.890625 \nQ 22.859375 7.515625 30.078125 7.515625 \nQ 37.359375 7.515625 41.375 12.890625 \nQ 45.40625 18.265625 45.40625 27.984375 \nz\nM 54.390625 6.78125 \nQ 54.390625 -7.171875 48.1875 -13.984375 \nQ 42 -20.796875 29.203125 -20.796875 \nQ 24.46875 -20.796875 20.265625 -20.09375 \nQ 16.0625 -19.390625 12.109375 -17.921875 \nL 12.109375 -9.1875 \nQ 16.0625 -11.328125 19.921875 -12.34375 \nQ 23.78125 -13.375 27.78125 -13.375 \nQ 36.625 -13.375 41.015625 -8.765625 \nQ 45.40625 -4.15625 45.40625 5.171875 \nL 45.40625 9.625 \nQ 42.625 4.78125 38.28125 2.390625 \nQ 33.9375 0 27.875 0 \nQ 17.828125 0 11.671875 7.65625 \nQ 5.515625 15.328125 5.515625 27.984375 \nQ 5.515625 40.671875 11.671875 48.328125 \nQ 17.828125 56 27.875 56 \nQ 33.9375 56 38.28125 53.609375 \nQ 42.625 51.21875 45.40625 46.390625 \nL 45.40625 54.6875 \nL 54.390625 54.6875 \nz\n\" id=\"DejaVuSans-103\"/>\n     </defs>\n     <use xlink:href=\"#DejaVuSans-84\"/>\n     <use x=\"44.583984\" xlink:href=\"#DejaVuSans-97\"/>\n     <use x=\"105.863281\" xlink:href=\"#DejaVuSans-98\"/>\n     <use x=\"169.339844\" xlink:href=\"#DejaVuSans-117\"/>\n     <use x=\"232.71875\" xlink:href=\"#DejaVuSans-108\"/>\n     <use x=\"260.501953\" xlink:href=\"#DejaVuSans-97\"/>\n     <use x=\"321.78125\" xlink:href=\"#DejaVuSans-114\"/>\n     <use x=\"362.894531\" xlink:href=\"#DejaVuSans-32\"/>\n     <use x=\"394.681641\" xlink:href=\"#DejaVuSans-81\"/>\n     <use x=\"476.142578\" xlink:href=\"#DejaVuSans-45\"/>\n     <use x=\"512.226562\" xlink:href=\"#DejaVuSans-108\"/>\n     <use x=\"540.009766\" xlink:href=\"#DejaVuSans-101\"/>\n     <use x=\"601.533203\" xlink:href=\"#DejaVuSans-97\"/>\n     <use x=\"662.8125\" xlink:href=\"#DejaVuSans-114\"/>\n     <use x=\"702.175781\" xlink:href=\"#DejaVuSans-110\"/>\n     <use x=\"765.554688\" xlink:href=\"#DejaVuSans-105\"/>\n     <use x=\"793.337891\" xlink:href=\"#DejaVuSans-110\"/>\n     <use x=\"856.716797\" xlink:href=\"#DejaVuSans-103\"/>\n    </g>\n   </g>\n  </g>\n </g>\n <defs>\n  <clipPath id=\"p6d40c171d8\">\n   <rect height=\"163.08\" width=\"223.2\" x=\"62.774375\" y=\"24.597656\"/>\n  </clipPath>\n </defs>\n</svg>\n",
      "text/plain": [
       "<Figure size 288x216 with 1 Axes>"
      ]
     },
     "metadata": {
      "needs_background": "light"
     },
     "output_type": "display_data"
    }
   ],
   "source": []
  },
  {
   "cell_type": "code",
   "execution_count": 45,
   "metadata": {},
   "outputs": [
    {
     "ename": "NameError",
     "evalue": "name 'plt' is not defined",
     "output_type": "error",
     "traceback": [
      "\u001b[1;31m---------------------------------------------------------------------------\u001b[0m",
      "\u001b[1;31mNameError\u001b[0m                                 Traceback (most recent call last)",
      "\u001b[1;32mc:\\Users\\dragm\\Documents\\GitHub\\lab4\\lab4.ipynb Cell 29'\u001b[0m in \u001b[0;36m<cell line: 1>\u001b[1;34m()\u001b[0m\n\u001b[1;32m----> <a href='vscode-notebook-cell:/c%3A/Users/dragm/Documents/GitHub/lab4/lab4.ipynb#ch0000028?line=0'>1</a>\u001b[0m plt\u001b[39m.\u001b[39mplot(ep_rewards)\n",
      "\u001b[1;31mNameError\u001b[0m: name 'plt' is not defined"
     ]
    }
   ],
   "source": [
    "plt.plot(ep_rewards)"
   ]
  }
 ],
 "metadata": {
  "interpreter": {
   "hash": "8e08d1f9f2fd15dc5471a6ea7be4d5e4074f6c78585af0bb1e5038cee0be00f0"
  },
  "kernelspec": {
   "display_name": "Python 3.8.5 ('lab4')",
   "language": "python",
   "name": "python3"
  },
  "language_info": {
   "codemirror_mode": {
    "name": "ipython",
    "version": 3
   },
   "file_extension": ".py",
   "mimetype": "text/x-python",
   "name": "python",
   "nbconvert_exporter": "python",
   "pygments_lexer": "ipython3",
   "version": "3.8.5"
  },
  "metadata": {
   "interpreter": {
    "hash": "e14277392997ec7b8d0d4e1eacc6a12462d831e78f154a1c368aae24d965e9e8"
   }
  },
  "orig_nbformat": 2
 },
 "nbformat": 4,
 "nbformat_minor": 2
}
